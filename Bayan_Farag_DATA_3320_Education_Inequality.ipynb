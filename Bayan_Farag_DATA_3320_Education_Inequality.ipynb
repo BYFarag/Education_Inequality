{
  "nbformat": 4,
  "nbformat_minor": 0,
  "metadata": {
    "colab": {
      "provenance": [],
      "collapsed_sections": [
        "3wvK6vF-85aX"
      ],
      "toc_visible": true,
      "include_colab_link": true
    },
    "kernelspec": {
      "name": "python3",
      "display_name": "Python 3"
    },
    "language_info": {
      "name": "python"
    }
  },
  "cells": [
    {
      "cell_type": "markdown",
      "metadata": {
        "id": "view-in-github",
        "colab_type": "text"
      },
      "source": [
        "<a href=\"https://colab.research.google.com/github/BYFarag/Education_Inequality/blob/main/Bayan_Farag_DATA_3320_Education_Inequality.ipynb\" target=\"_parent\"><img src=\"https://colab.research.google.com/assets/colab-badge.svg\" alt=\"Open In Colab\"/></a>"
      ]
    },
    {
      "cell_type": "markdown",
      "source": [
        "## Introduction"
      ],
      "metadata": {
        "id": "cOSJyABoshOK"
      }
    },
    {
      "cell_type": "markdown",
      "source": [
        "The objective of this project is to address the issue of inequality in educational opportunities among U.S. high schools. Our main focus is on the average performance of students on standardized tests such as the ACT or SAT, which are integral to the college application process. Through our research, we seek to determine whether socioeconomic factors influence school performance on these exams."
      ],
      "metadata": {
        "id": "26hIPGtBsi7g"
      }
    },
    {
      "cell_type": "markdown",
      "source": [
        "## Import libraries"
      ],
      "metadata": {
        "id": "dwvtDMCYlPus"
      }
    },
    {
      "cell_type": "code",
      "execution_count": 95,
      "metadata": {
        "id": "DQZAzYri_ru5"
      },
      "outputs": [],
      "source": [
        "import pandas as pd\n",
        "import numpy as np\n",
        "import matplotlib.pyplot as plt\n",
        "import seaborn as sns\n",
        "sns.set_theme(style='whitegrid')\n",
        "import missingno as msno\n",
        "\n",
        "# Train-test splits\n",
        "from sklearn.model_selection import train_test_split, cross_val_score, GridSearchCV, KFold, RandomizedSearchCV\n",
        "\n",
        "# Model preprocessing\n",
        "from sklearn.preprocessing import StandardScaler\n",
        "\n",
        "# Modeling\n",
        "import statsmodels.formula.api as smf\n",
        "import statsmodels.api as sm\n",
        "\n",
        "# Model preprocessing\n",
        "from sklearn import preprocessing\n",
        "from sklearn.preprocessing import PolynomialFeatures\n",
        "from sklearn.preprocessing import StandardScaler\n",
        "\n",
        "# Model metrics and analysis\n",
        "from sklearn.metrics import r2_score, mean_squared_error, mean_absolute_error\n",
        "\n",
        "# Imputation\n",
        "from sklearn.experimental import enable_iterative_imputer\n",
        "from sklearn.impute import SimpleImputer, IterativeImputer, KNNImputer\n",
        "\n",
        "# Models\n",
        "from sklearn import linear_model"
      ]
    },
    {
      "cell_type": "markdown",
      "source": [
        "## The data"
      ],
      "metadata": {
        "id": "PQfz_To0dhYX"
      }
    },
    {
      "cell_type": "markdown",
      "source": [
        "This project utilizes two data sets. The primary data set is the EdGap data set from [EdGap.org](https://www.edgap.org/#5/37.875/-96.987). This data set from 2016 includes information about average ACT or SAT scores for schools and several socioeconomic characteristics of the school district. The secondary data set is basic information about each school from the [National Center for Education Statistics](https://nces.ed.gov/ccd/pubschuniv.asp).\n",
        "\n",
        "\n",
        "\n"
      ],
      "metadata": {
        "id": "fDJ80Omny91y"
      }
    },
    {
      "cell_type": "markdown",
      "source": [
        "### EdGap data"
      ],
      "metadata": {
        "id": "HUbdlXjMchi-"
      }
    },
    {
      "cell_type": "markdown",
      "source": [
        "All socioeconomic data (household income, unemployment, adult educational attainment, and family structure) are from the Census Bureau's American Community Survey. \n",
        "\n",
        "[EdGap.org](https://www.edgap.org/#5/37.875/-96.987) report that ACT and SAT score data is from each state's department of education or some other public data release. The nature of the other public data release is not known.\n",
        "\n",
        "The quality of the census data and the department of education data can be assumed to be reasonably high. \n",
        "\n",
        "[EdGap.org](https://www.edgap.org/#5/37.875/-96.987) do not indicate that they processed the data in any way. The data were assembled by the [EdGap.org](https://www.edgap.org/#5/37.875/-96.987) team, so there is always the possibility for human error. Given the public nature of the data, we would be able to consult the original data sources to check the quality of the data if we had any questions."
      ],
      "metadata": {
        "id": "JhRr1Z9Bcis6"
      }
    },
    {
      "cell_type": "markdown",
      "source": [
        "### School information data"
      ],
      "metadata": {
        "id": "6ahKtePYcbEZ"
      }
    },
    {
      "cell_type": "markdown",
      "source": [
        "The school information data is from the [National Center for Education Statistics](https://nces.ed.gov/ccd/pubschuniv.asp). This data set consists of basic identifying information about schools and can be assumed to be of reasonably high quality. As for the EdGap.org data, the school information data is public, so we would be able to consult the original data sources to check the quality of the data if we had any questions.\n"
      ],
      "metadata": {
        "id": "y7K1km9Tcdy3"
      }
    },
    {
      "cell_type": "markdown",
      "source": [
        "## Load the data"
      ],
      "metadata": {
        "id": "5qccuG8vy7Ja"
      }
    },
    {
      "cell_type": "markdown",
      "source": [
        "Load the EdGap\n",
        " data set"
      ],
      "metadata": {
        "id": "7eodKzMZl5h9"
      }
    },
    {
      "cell_type": "code",
      "source": [
        "edgap = pd.read_excel('https://raw.githubusercontent.com/brian-fischer/DATA-3320/main/education/EdGap_data.xlsx')"
      ],
      "metadata": {
        "id": "TpRcvNoalbnG",
        "colab": {
          "base_uri": "https://localhost:8080/"
        },
        "outputId": "4fa998fa-baa7-4593-a971-1aae0d18b612"
      },
      "execution_count": 96,
      "outputs": [
        {
          "output_type": "stream",
          "name": "stderr",
          "text": [
            "/usr/local/lib/python3.9/dist-packages/openpyxl/worksheet/_reader.py:312: UserWarning: Unknown extension is not supported and will be removed\n",
            "  warn(msg)\n"
          ]
        }
      ]
    },
    {
      "cell_type": "markdown",
      "source": [
        "Load the school information data"
      ],
      "metadata": {
        "id": "yQ_5N98addPO"
      }
    },
    {
      "cell_type": "code",
      "source": [
        "!wget https://www.dropbox.com/s/lkl5nvcdmwyoban/ccd_sch_029_1617_w_1a_11212017.csv?dl=0"
      ],
      "metadata": {
        "colab": {
          "base_uri": "https://localhost:8080/"
        },
        "id": "4koKUuw4doCI",
        "outputId": "658f9a76-fcdd-464a-dfb0-5e1324c3b097"
      },
      "execution_count": 97,
      "outputs": [
        {
          "output_type": "stream",
          "name": "stdout",
          "text": [
            "--2023-04-24 23:48:55--  https://www.dropbox.com/s/lkl5nvcdmwyoban/ccd_sch_029_1617_w_1a_11212017.csv?dl=0\n",
            "Resolving www.dropbox.com (www.dropbox.com)... 162.125.3.18, 2620:100:6018:18::a27d:312\n",
            "Connecting to www.dropbox.com (www.dropbox.com)|162.125.3.18|:443... connected.\n",
            "HTTP request sent, awaiting response... 302 Found\n",
            "Location: /s/raw/lkl5nvcdmwyoban/ccd_sch_029_1617_w_1a_11212017.csv [following]\n",
            "--2023-04-24 23:48:55--  https://www.dropbox.com/s/raw/lkl5nvcdmwyoban/ccd_sch_029_1617_w_1a_11212017.csv\n",
            "Reusing existing connection to www.dropbox.com:443.\n",
            "HTTP request sent, awaiting response... 302 Found\n",
            "Location: https://uc60a7a688831cbbd9a077dae82a.dl.dropboxusercontent.com/cd/0/inline/B62j9lL7h9GZzKFJ5ZmVOybniOHn39pRHeIDJDkWnxH3R8zp3Q5rbQQbRjuTj7Cc6nnKanBR3O7Dt_xUa2Xi3eeO5qiA5aJvLur7Z0i-QQO9XVhHRwGDXH7fHK8SuflVBnNkQtSEveXOWQwqbYBK2HeN0vN__foWzBvNIXwQx8Q7uQ/file# [following]\n",
            "--2023-04-24 23:48:56--  https://uc60a7a688831cbbd9a077dae82a.dl.dropboxusercontent.com/cd/0/inline/B62j9lL7h9GZzKFJ5ZmVOybniOHn39pRHeIDJDkWnxH3R8zp3Q5rbQQbRjuTj7Cc6nnKanBR3O7Dt_xUa2Xi3eeO5qiA5aJvLur7Z0i-QQO9XVhHRwGDXH7fHK8SuflVBnNkQtSEveXOWQwqbYBK2HeN0vN__foWzBvNIXwQx8Q7uQ/file\n",
            "Resolving uc60a7a688831cbbd9a077dae82a.dl.dropboxusercontent.com (uc60a7a688831cbbd9a077dae82a.dl.dropboxusercontent.com)... 162.125.2.15, 2620:100:6018:15::a27d:30f\n",
            "Connecting to uc60a7a688831cbbd9a077dae82a.dl.dropboxusercontent.com (uc60a7a688831cbbd9a077dae82a.dl.dropboxusercontent.com)|162.125.2.15|:443... connected.\n",
            "HTTP request sent, awaiting response... 200 OK\n",
            "Length: 40477083 (39M) [text/plain]\n",
            "Saving to: ‘ccd_sch_029_1617_w_1a_11212017.csv?dl=0.1’\n",
            "\n",
            "ccd_sch_029_1617_w_ 100%[===================>]  38.60M  99.4MB/s    in 0.4s    \n",
            "\n",
            "2023-04-24 23:48:57 (99.4 MB/s) - ‘ccd_sch_029_1617_w_1a_11212017.csv?dl=0.1’ saved [40477083/40477083]\n",
            "\n"
          ]
        }
      ]
    },
    {
      "cell_type": "code",
      "source": [
        "school_info = pd.read_csv('ccd_sch_029_1617_w_1a_11212017.csv?dl=0', encoding= 'unicode_escape')"
      ],
      "metadata": {
        "colab": {
          "base_uri": "https://localhost:8080/"
        },
        "id": "baD6nLnsdrmj",
        "outputId": "eb11d4a1-e265-48ff-ce8e-6eee958d1dbc"
      },
      "execution_count": 98,
      "outputs": [
        {
          "output_type": "stream",
          "name": "stderr",
          "text": [
            "<ipython-input-98-54e0747c4ccf>:1: DtypeWarning: Columns (6,9,14,15,18,19,21,22,25,26,29,31,35,39,41,42) have mixed types. Specify dtype option on import or set low_memory=False.\n",
            "  school_info = pd.read_csv('ccd_sch_029_1617_w_1a_11212017.csv?dl=0', encoding= 'unicode_escape')\n"
          ]
        }
      ]
    },
    {
      "cell_type": "markdown",
      "source": [
        "## Inspect the contents of each data set."
      ],
      "metadata": {
        "id": "OHVSgzXFd4nf"
      }
    },
    {
      "cell_type": "markdown",
      "source": [
        "In this section we are inspects the contents of each data set, starting off by looking at the head of each data frame."
      ],
      "metadata": {
        "id": "gYxy4Sy6d9_j"
      }
    },
    {
      "cell_type": "code",
      "source": [
        "edgap.head()"
      ],
      "metadata": {
        "colab": {
          "base_uri": "https://localhost:8080/",
          "height": 302
        },
        "id": "wOhmyXJhd9NF",
        "outputId": "d5ace4b4-df18-4d2c-80d0-d9a1365d70c1"
      },
      "execution_count": 99,
      "outputs": [
        {
          "output_type": "execute_result",
          "data": {
            "text/plain": [
              "   NCESSCH School ID  CT Unemployment Rate  CT Pct Adults with College Degree  \\\n",
              "0       100001600143              0.117962                           0.445283   \n",
              "1       100008000024              0.063984                           0.662765   \n",
              "2       100008000225              0.056460                           0.701864   \n",
              "3       100017000029              0.044739                           0.692062   \n",
              "4       100018000040              0.077014                           0.640060   \n",
              "\n",
              "   CT Pct Childre In Married Couple Family  CT Median Household Income  \\\n",
              "0                                 0.346495                     42820.0   \n",
              "1                                 0.767619                     89320.0   \n",
              "2                                 0.713090                     84140.0   \n",
              "3                                 0.641283                     56500.0   \n",
              "4                                 0.834402                     54015.0   \n",
              "\n",
              "   School ACT average (or equivalent if SAT score)  \\\n",
              "0                                        20.433455   \n",
              "1                                        19.498168   \n",
              "2                                        19.554335   \n",
              "3                                        17.737485   \n",
              "4                                        18.245421   \n",
              "\n",
              "   School Pct Free and Reduced Lunch  \n",
              "0                           0.066901  \n",
              "1                           0.112412  \n",
              "2                           0.096816  \n",
              "3                           0.296960  \n",
              "4                           0.262641  "
            ],
            "text/html": [
              "\n",
              "  <div id=\"df-04d033b4-56e2-42ed-a4e2-f590d878a020\">\n",
              "    <div class=\"colab-df-container\">\n",
              "      <div>\n",
              "<style scoped>\n",
              "    .dataframe tbody tr th:only-of-type {\n",
              "        vertical-align: middle;\n",
              "    }\n",
              "\n",
              "    .dataframe tbody tr th {\n",
              "        vertical-align: top;\n",
              "    }\n",
              "\n",
              "    .dataframe thead th {\n",
              "        text-align: right;\n",
              "    }\n",
              "</style>\n",
              "<table border=\"1\" class=\"dataframe\">\n",
              "  <thead>\n",
              "    <tr style=\"text-align: right;\">\n",
              "      <th></th>\n",
              "      <th>NCESSCH School ID</th>\n",
              "      <th>CT Unemployment Rate</th>\n",
              "      <th>CT Pct Adults with College Degree</th>\n",
              "      <th>CT Pct Childre In Married Couple Family</th>\n",
              "      <th>CT Median Household Income</th>\n",
              "      <th>School ACT average (or equivalent if SAT score)</th>\n",
              "      <th>School Pct Free and Reduced Lunch</th>\n",
              "    </tr>\n",
              "  </thead>\n",
              "  <tbody>\n",
              "    <tr>\n",
              "      <th>0</th>\n",
              "      <td>100001600143</td>\n",
              "      <td>0.117962</td>\n",
              "      <td>0.445283</td>\n",
              "      <td>0.346495</td>\n",
              "      <td>42820.0</td>\n",
              "      <td>20.433455</td>\n",
              "      <td>0.066901</td>\n",
              "    </tr>\n",
              "    <tr>\n",
              "      <th>1</th>\n",
              "      <td>100008000024</td>\n",
              "      <td>0.063984</td>\n",
              "      <td>0.662765</td>\n",
              "      <td>0.767619</td>\n",
              "      <td>89320.0</td>\n",
              "      <td>19.498168</td>\n",
              "      <td>0.112412</td>\n",
              "    </tr>\n",
              "    <tr>\n",
              "      <th>2</th>\n",
              "      <td>100008000225</td>\n",
              "      <td>0.056460</td>\n",
              "      <td>0.701864</td>\n",
              "      <td>0.713090</td>\n",
              "      <td>84140.0</td>\n",
              "      <td>19.554335</td>\n",
              "      <td>0.096816</td>\n",
              "    </tr>\n",
              "    <tr>\n",
              "      <th>3</th>\n",
              "      <td>100017000029</td>\n",
              "      <td>0.044739</td>\n",
              "      <td>0.692062</td>\n",
              "      <td>0.641283</td>\n",
              "      <td>56500.0</td>\n",
              "      <td>17.737485</td>\n",
              "      <td>0.296960</td>\n",
              "    </tr>\n",
              "    <tr>\n",
              "      <th>4</th>\n",
              "      <td>100018000040</td>\n",
              "      <td>0.077014</td>\n",
              "      <td>0.640060</td>\n",
              "      <td>0.834402</td>\n",
              "      <td>54015.0</td>\n",
              "      <td>18.245421</td>\n",
              "      <td>0.262641</td>\n",
              "    </tr>\n",
              "  </tbody>\n",
              "</table>\n",
              "</div>\n",
              "      <button class=\"colab-df-convert\" onclick=\"convertToInteractive('df-04d033b4-56e2-42ed-a4e2-f590d878a020')\"\n",
              "              title=\"Convert this dataframe to an interactive table.\"\n",
              "              style=\"display:none;\">\n",
              "        \n",
              "  <svg xmlns=\"http://www.w3.org/2000/svg\" height=\"24px\"viewBox=\"0 0 24 24\"\n",
              "       width=\"24px\">\n",
              "    <path d=\"M0 0h24v24H0V0z\" fill=\"none\"/>\n",
              "    <path d=\"M18.56 5.44l.94 2.06.94-2.06 2.06-.94-2.06-.94-.94-2.06-.94 2.06-2.06.94zm-11 1L8.5 8.5l.94-2.06 2.06-.94-2.06-.94L8.5 2.5l-.94 2.06-2.06.94zm10 10l.94 2.06.94-2.06 2.06-.94-2.06-.94-.94-2.06-.94 2.06-2.06.94z\"/><path d=\"M17.41 7.96l-1.37-1.37c-.4-.4-.92-.59-1.43-.59-.52 0-1.04.2-1.43.59L10.3 9.45l-7.72 7.72c-.78.78-.78 2.05 0 2.83L4 21.41c.39.39.9.59 1.41.59.51 0 1.02-.2 1.41-.59l7.78-7.78 2.81-2.81c.8-.78.8-2.07 0-2.86zM5.41 20L4 18.59l7.72-7.72 1.47 1.35L5.41 20z\"/>\n",
              "  </svg>\n",
              "      </button>\n",
              "      \n",
              "  <style>\n",
              "    .colab-df-container {\n",
              "      display:flex;\n",
              "      flex-wrap:wrap;\n",
              "      gap: 12px;\n",
              "    }\n",
              "\n",
              "    .colab-df-convert {\n",
              "      background-color: #E8F0FE;\n",
              "      border: none;\n",
              "      border-radius: 50%;\n",
              "      cursor: pointer;\n",
              "      display: none;\n",
              "      fill: #1967D2;\n",
              "      height: 32px;\n",
              "      padding: 0 0 0 0;\n",
              "      width: 32px;\n",
              "    }\n",
              "\n",
              "    .colab-df-convert:hover {\n",
              "      background-color: #E2EBFA;\n",
              "      box-shadow: 0px 1px 2px rgba(60, 64, 67, 0.3), 0px 1px 3px 1px rgba(60, 64, 67, 0.15);\n",
              "      fill: #174EA6;\n",
              "    }\n",
              "\n",
              "    [theme=dark] .colab-df-convert {\n",
              "      background-color: #3B4455;\n",
              "      fill: #D2E3FC;\n",
              "    }\n",
              "\n",
              "    [theme=dark] .colab-df-convert:hover {\n",
              "      background-color: #434B5C;\n",
              "      box-shadow: 0px 1px 3px 1px rgba(0, 0, 0, 0.15);\n",
              "      filter: drop-shadow(0px 1px 2px rgba(0, 0, 0, 0.3));\n",
              "      fill: #FFFFFF;\n",
              "    }\n",
              "  </style>\n",
              "\n",
              "      <script>\n",
              "        const buttonEl =\n",
              "          document.querySelector('#df-04d033b4-56e2-42ed-a4e2-f590d878a020 button.colab-df-convert');\n",
              "        buttonEl.style.display =\n",
              "          google.colab.kernel.accessAllowed ? 'block' : 'none';\n",
              "\n",
              "        async function convertToInteractive(key) {\n",
              "          const element = document.querySelector('#df-04d033b4-56e2-42ed-a4e2-f590d878a020');\n",
              "          const dataTable =\n",
              "            await google.colab.kernel.invokeFunction('convertToInteractive',\n",
              "                                                     [key], {});\n",
              "          if (!dataTable) return;\n",
              "\n",
              "          const docLinkHtml = 'Like what you see? Visit the ' +\n",
              "            '<a target=\"_blank\" href=https://colab.research.google.com/notebooks/data_table.ipynb>data table notebook</a>'\n",
              "            + ' to learn more about interactive tables.';\n",
              "          element.innerHTML = '';\n",
              "          dataTable['output_type'] = 'display_data';\n",
              "          await google.colab.output.renderOutput(dataTable, element);\n",
              "          const docLink = document.createElement('div');\n",
              "          docLink.innerHTML = docLinkHtml;\n",
              "          element.appendChild(docLink);\n",
              "        }\n",
              "      </script>\n",
              "    </div>\n",
              "  </div>\n",
              "  "
            ]
          },
          "metadata": {},
          "execution_count": 99
        }
      ]
    },
    {
      "cell_type": "code",
      "source": [
        "school_info.head()"
      ],
      "metadata": {
        "colab": {
          "base_uri": "https://localhost:8080/",
          "height": 525
        },
        "id": "8-HRWZdPeCAI",
        "outputId": "016143ff-a62d-4c3e-b7fd-20670254e9cd"
      },
      "execution_count": 100,
      "outputs": [
        {
          "output_type": "execute_result",
          "data": {
            "text/plain": [
              "  SCHOOL_YEAR  FIPST STATENAME  ST                          SCH_NAME  \\\n",
              "0   2016-2017      1   ALABAMA  AL  Sequoyah Sch - Chalkville Campus   \n",
              "1   2016-2017      1   ALABAMA  AL                             Camps   \n",
              "2   2016-2017      1   ALABAMA  AL                           Det Ctr   \n",
              "3   2016-2017      1   ALABAMA  AL     Wallace Sch - Mt Meigs Campus   \n",
              "4   2016-2017      1   ALABAMA  AL         McNeel Sch - Vacca Campus   \n",
              "\n",
              "                 LEA_NAME STATE_AGENCY_NO  UNION ST_LEAID   LEAID  ...  \\\n",
              "0  Alabama Youth Services               1    NaN   AL-210  100002  ...   \n",
              "1  Alabama Youth Services               1    NaN   AL-210  100002  ...   \n",
              "2  Alabama Youth Services               1    NaN   AL-210  100002  ...   \n",
              "3  Alabama Youth Services               1    NaN   AL-210  100002  ...   \n",
              "4  Alabama Youth Services               1    NaN   AL-210  100002  ...   \n",
              "\n",
              "  G_10_OFFERED  G_11_OFFERED  G_12_OFFERED G_13_OFFERED G_UG_OFFERED  \\\n",
              "0          Yes           Yes           Yes           No           No   \n",
              "1          Yes           Yes           Yes           No           No   \n",
              "2          Yes           Yes           Yes           No           No   \n",
              "3          Yes           Yes           Yes           No           No   \n",
              "4          Yes           Yes           Yes           No           No   \n",
              "\n",
              "  G_AE_OFFERED GSLO GSHI LEVEL    IGOFFERED  \n",
              "0           No   07   12  High  As reported  \n",
              "1           No   07   12  High  As reported  \n",
              "2           No   07   12  High  As reported  \n",
              "3           No   07   12  High  As reported  \n",
              "4           No   07   12  High  As reported  \n",
              "\n",
              "[5 rows x 65 columns]"
            ],
            "text/html": [
              "\n",
              "  <div id=\"df-1a5fd267-d080-4679-8899-6bd101415a3d\">\n",
              "    <div class=\"colab-df-container\">\n",
              "      <div>\n",
              "<style scoped>\n",
              "    .dataframe tbody tr th:only-of-type {\n",
              "        vertical-align: middle;\n",
              "    }\n",
              "\n",
              "    .dataframe tbody tr th {\n",
              "        vertical-align: top;\n",
              "    }\n",
              "\n",
              "    .dataframe thead th {\n",
              "        text-align: right;\n",
              "    }\n",
              "</style>\n",
              "<table border=\"1\" class=\"dataframe\">\n",
              "  <thead>\n",
              "    <tr style=\"text-align: right;\">\n",
              "      <th></th>\n",
              "      <th>SCHOOL_YEAR</th>\n",
              "      <th>FIPST</th>\n",
              "      <th>STATENAME</th>\n",
              "      <th>ST</th>\n",
              "      <th>SCH_NAME</th>\n",
              "      <th>LEA_NAME</th>\n",
              "      <th>STATE_AGENCY_NO</th>\n",
              "      <th>UNION</th>\n",
              "      <th>ST_LEAID</th>\n",
              "      <th>LEAID</th>\n",
              "      <th>...</th>\n",
              "      <th>G_10_OFFERED</th>\n",
              "      <th>G_11_OFFERED</th>\n",
              "      <th>G_12_OFFERED</th>\n",
              "      <th>G_13_OFFERED</th>\n",
              "      <th>G_UG_OFFERED</th>\n",
              "      <th>G_AE_OFFERED</th>\n",
              "      <th>GSLO</th>\n",
              "      <th>GSHI</th>\n",
              "      <th>LEVEL</th>\n",
              "      <th>IGOFFERED</th>\n",
              "    </tr>\n",
              "  </thead>\n",
              "  <tbody>\n",
              "    <tr>\n",
              "      <th>0</th>\n",
              "      <td>2016-2017</td>\n",
              "      <td>1</td>\n",
              "      <td>ALABAMA</td>\n",
              "      <td>AL</td>\n",
              "      <td>Sequoyah Sch - Chalkville Campus</td>\n",
              "      <td>Alabama Youth Services</td>\n",
              "      <td>1</td>\n",
              "      <td>NaN</td>\n",
              "      <td>AL-210</td>\n",
              "      <td>100002</td>\n",
              "      <td>...</td>\n",
              "      <td>Yes</td>\n",
              "      <td>Yes</td>\n",
              "      <td>Yes</td>\n",
              "      <td>No</td>\n",
              "      <td>No</td>\n",
              "      <td>No</td>\n",
              "      <td>07</td>\n",
              "      <td>12</td>\n",
              "      <td>High</td>\n",
              "      <td>As reported</td>\n",
              "    </tr>\n",
              "    <tr>\n",
              "      <th>1</th>\n",
              "      <td>2016-2017</td>\n",
              "      <td>1</td>\n",
              "      <td>ALABAMA</td>\n",
              "      <td>AL</td>\n",
              "      <td>Camps</td>\n",
              "      <td>Alabama Youth Services</td>\n",
              "      <td>1</td>\n",
              "      <td>NaN</td>\n",
              "      <td>AL-210</td>\n",
              "      <td>100002</td>\n",
              "      <td>...</td>\n",
              "      <td>Yes</td>\n",
              "      <td>Yes</td>\n",
              "      <td>Yes</td>\n",
              "      <td>No</td>\n",
              "      <td>No</td>\n",
              "      <td>No</td>\n",
              "      <td>07</td>\n",
              "      <td>12</td>\n",
              "      <td>High</td>\n",
              "      <td>As reported</td>\n",
              "    </tr>\n",
              "    <tr>\n",
              "      <th>2</th>\n",
              "      <td>2016-2017</td>\n",
              "      <td>1</td>\n",
              "      <td>ALABAMA</td>\n",
              "      <td>AL</td>\n",
              "      <td>Det Ctr</td>\n",
              "      <td>Alabama Youth Services</td>\n",
              "      <td>1</td>\n",
              "      <td>NaN</td>\n",
              "      <td>AL-210</td>\n",
              "      <td>100002</td>\n",
              "      <td>...</td>\n",
              "      <td>Yes</td>\n",
              "      <td>Yes</td>\n",
              "      <td>Yes</td>\n",
              "      <td>No</td>\n",
              "      <td>No</td>\n",
              "      <td>No</td>\n",
              "      <td>07</td>\n",
              "      <td>12</td>\n",
              "      <td>High</td>\n",
              "      <td>As reported</td>\n",
              "    </tr>\n",
              "    <tr>\n",
              "      <th>3</th>\n",
              "      <td>2016-2017</td>\n",
              "      <td>1</td>\n",
              "      <td>ALABAMA</td>\n",
              "      <td>AL</td>\n",
              "      <td>Wallace Sch - Mt Meigs Campus</td>\n",
              "      <td>Alabama Youth Services</td>\n",
              "      <td>1</td>\n",
              "      <td>NaN</td>\n",
              "      <td>AL-210</td>\n",
              "      <td>100002</td>\n",
              "      <td>...</td>\n",
              "      <td>Yes</td>\n",
              "      <td>Yes</td>\n",
              "      <td>Yes</td>\n",
              "      <td>No</td>\n",
              "      <td>No</td>\n",
              "      <td>No</td>\n",
              "      <td>07</td>\n",
              "      <td>12</td>\n",
              "      <td>High</td>\n",
              "      <td>As reported</td>\n",
              "    </tr>\n",
              "    <tr>\n",
              "      <th>4</th>\n",
              "      <td>2016-2017</td>\n",
              "      <td>1</td>\n",
              "      <td>ALABAMA</td>\n",
              "      <td>AL</td>\n",
              "      <td>McNeel Sch - Vacca Campus</td>\n",
              "      <td>Alabama Youth Services</td>\n",
              "      <td>1</td>\n",
              "      <td>NaN</td>\n",
              "      <td>AL-210</td>\n",
              "      <td>100002</td>\n",
              "      <td>...</td>\n",
              "      <td>Yes</td>\n",
              "      <td>Yes</td>\n",
              "      <td>Yes</td>\n",
              "      <td>No</td>\n",
              "      <td>No</td>\n",
              "      <td>No</td>\n",
              "      <td>07</td>\n",
              "      <td>12</td>\n",
              "      <td>High</td>\n",
              "      <td>As reported</td>\n",
              "    </tr>\n",
              "  </tbody>\n",
              "</table>\n",
              "<p>5 rows × 65 columns</p>\n",
              "</div>\n",
              "      <button class=\"colab-df-convert\" onclick=\"convertToInteractive('df-1a5fd267-d080-4679-8899-6bd101415a3d')\"\n",
              "              title=\"Convert this dataframe to an interactive table.\"\n",
              "              style=\"display:none;\">\n",
              "        \n",
              "  <svg xmlns=\"http://www.w3.org/2000/svg\" height=\"24px\"viewBox=\"0 0 24 24\"\n",
              "       width=\"24px\">\n",
              "    <path d=\"M0 0h24v24H0V0z\" fill=\"none\"/>\n",
              "    <path d=\"M18.56 5.44l.94 2.06.94-2.06 2.06-.94-2.06-.94-.94-2.06-.94 2.06-2.06.94zm-11 1L8.5 8.5l.94-2.06 2.06-.94-2.06-.94L8.5 2.5l-.94 2.06-2.06.94zm10 10l.94 2.06.94-2.06 2.06-.94-2.06-.94-.94-2.06-.94 2.06-2.06.94z\"/><path d=\"M17.41 7.96l-1.37-1.37c-.4-.4-.92-.59-1.43-.59-.52 0-1.04.2-1.43.59L10.3 9.45l-7.72 7.72c-.78.78-.78 2.05 0 2.83L4 21.41c.39.39.9.59 1.41.59.51 0 1.02-.2 1.41-.59l7.78-7.78 2.81-2.81c.8-.78.8-2.07 0-2.86zM5.41 20L4 18.59l7.72-7.72 1.47 1.35L5.41 20z\"/>\n",
              "  </svg>\n",
              "      </button>\n",
              "      \n",
              "  <style>\n",
              "    .colab-df-container {\n",
              "      display:flex;\n",
              "      flex-wrap:wrap;\n",
              "      gap: 12px;\n",
              "    }\n",
              "\n",
              "    .colab-df-convert {\n",
              "      background-color: #E8F0FE;\n",
              "      border: none;\n",
              "      border-radius: 50%;\n",
              "      cursor: pointer;\n",
              "      display: none;\n",
              "      fill: #1967D2;\n",
              "      height: 32px;\n",
              "      padding: 0 0 0 0;\n",
              "      width: 32px;\n",
              "    }\n",
              "\n",
              "    .colab-df-convert:hover {\n",
              "      background-color: #E2EBFA;\n",
              "      box-shadow: 0px 1px 2px rgba(60, 64, 67, 0.3), 0px 1px 3px 1px rgba(60, 64, 67, 0.15);\n",
              "      fill: #174EA6;\n",
              "    }\n",
              "\n",
              "    [theme=dark] .colab-df-convert {\n",
              "      background-color: #3B4455;\n",
              "      fill: #D2E3FC;\n",
              "    }\n",
              "\n",
              "    [theme=dark] .colab-df-convert:hover {\n",
              "      background-color: #434B5C;\n",
              "      box-shadow: 0px 1px 3px 1px rgba(0, 0, 0, 0.15);\n",
              "      filter: drop-shadow(0px 1px 2px rgba(0, 0, 0, 0.3));\n",
              "      fill: #FFFFFF;\n",
              "    }\n",
              "  </style>\n",
              "\n",
              "      <script>\n",
              "        const buttonEl =\n",
              "          document.querySelector('#df-1a5fd267-d080-4679-8899-6bd101415a3d button.colab-df-convert');\n",
              "        buttonEl.style.display =\n",
              "          google.colab.kernel.accessAllowed ? 'block' : 'none';\n",
              "\n",
              "        async function convertToInteractive(key) {\n",
              "          const element = document.querySelector('#df-1a5fd267-d080-4679-8899-6bd101415a3d');\n",
              "          const dataTable =\n",
              "            await google.colab.kernel.invokeFunction('convertToInteractive',\n",
              "                                                     [key], {});\n",
              "          if (!dataTable) return;\n",
              "\n",
              "          const docLinkHtml = 'Like what you see? Visit the ' +\n",
              "            '<a target=\"_blank\" href=https://colab.research.google.com/notebooks/data_table.ipynb>data table notebook</a>'\n",
              "            + ' to learn more about interactive tables.';\n",
              "          element.innerHTML = '';\n",
              "          dataTable['output_type'] = 'display_data';\n",
              "          await google.colab.output.renderOutput(dataTable, element);\n",
              "          const docLink = document.createElement('div');\n",
              "          docLink.innerHTML = docLinkHtml;\n",
              "          element.appendChild(docLink);\n",
              "        }\n",
              "      </script>\n",
              "    </div>\n",
              "  </div>\n",
              "  "
            ]
          },
          "metadata": {},
          "execution_count": 100
        }
      ]
    },
    {
      "cell_type": "markdown",
      "source": [
        "We are using the `info` method to check the data types, size of the data frame, and numbers of missing values."
      ],
      "metadata": {
        "id": "e0IEtgl8eRkv"
      }
    },
    {
      "cell_type": "code",
      "source": [
        "edgap.info()"
      ],
      "metadata": {
        "colab": {
          "base_uri": "https://localhost:8080/"
        },
        "id": "S-dHnf19eSSf",
        "outputId": "b3e8cc71-f586-48be-faff-28059f9ba45e"
      },
      "execution_count": 101,
      "outputs": [
        {
          "output_type": "stream",
          "name": "stdout",
          "text": [
            "<class 'pandas.core.frame.DataFrame'>\n",
            "RangeIndex: 7986 entries, 0 to 7985\n",
            "Data columns (total 7 columns):\n",
            " #   Column                                           Non-Null Count  Dtype  \n",
            "---  ------                                           --------------  -----  \n",
            " 0   NCESSCH School ID                                7986 non-null   int64  \n",
            " 1   CT Unemployment Rate                             7972 non-null   float64\n",
            " 2   CT Pct Adults with College Degree                7973 non-null   float64\n",
            " 3   CT Pct Childre In Married Couple Family          7961 non-null   float64\n",
            " 4   CT Median Household Income                       7966 non-null   float64\n",
            " 5   School ACT average (or equivalent if SAT score)  7986 non-null   float64\n",
            " 6   School Pct Free and Reduced Lunch                7986 non-null   float64\n",
            "dtypes: float64(6), int64(1)\n",
            "memory usage: 436.9 KB\n"
          ]
        }
      ]
    },
    {
      "cell_type": "markdown",
      "source": [
        "It appears that there is some missing points in the school_info()"
      ],
      "metadata": {
        "id": "W3nh1e1seXu8"
      }
    },
    {
      "cell_type": "code",
      "source": [
        "school_info.info()"
      ],
      "metadata": {
        "id": "KGLg7p04exIM",
        "colab": {
          "base_uri": "https://localhost:8080/"
        },
        "outputId": "e9c9c8fe-6ce7-4b9d-b8a9-07f8cfc6608a"
      },
      "execution_count": 102,
      "outputs": [
        {
          "output_type": "stream",
          "name": "stdout",
          "text": [
            "<class 'pandas.core.frame.DataFrame'>\n",
            "RangeIndex: 102183 entries, 0 to 102182\n",
            "Data columns (total 65 columns):\n",
            " #   Column               Non-Null Count   Dtype  \n",
            "---  ------               --------------   -----  \n",
            " 0   SCHOOL_YEAR          102183 non-null  object \n",
            " 1   FIPST                102183 non-null  int64  \n",
            " 2   STATENAME            102183 non-null  object \n",
            " 3   ST                   102183 non-null  object \n",
            " 4   SCH_NAME             102183 non-null  object \n",
            " 5   LEA_NAME             102183 non-null  object \n",
            " 6   STATE_AGENCY_NO      102183 non-null  object \n",
            " 7   UNION                2533 non-null    float64\n",
            " 8   ST_LEAID             102183 non-null  object \n",
            " 9   LEAID                102183 non-null  object \n",
            " 10  ST_SCHID             102183 non-null  object \n",
            " 11  NCESSCH              102181 non-null  float64\n",
            " 12  SCHID                102181 non-null  float64\n",
            " 13  MSTREET1             102181 non-null  object \n",
            " 14  MSTREET2             1825 non-null    object \n",
            " 15  MSTREET3             28 non-null      object \n",
            " 16  MCITY                102183 non-null  object \n",
            " 17  MSTATE               102183 non-null  object \n",
            " 18  MZIP                 102183 non-null  object \n",
            " 19  MZIP4                60419 non-null   object \n",
            " 20  LSTREET1             102183 non-null  object \n",
            " 21  LSTREET2             582 non-null     object \n",
            " 22  LSTREET3             13 non-null      object \n",
            " 23  LCITY                102183 non-null  object \n",
            " 24  LSTATE               102183 non-null  object \n",
            " 25  LZIP                 102183 non-null  object \n",
            " 26  LZIP4                59145 non-null   object \n",
            " 27  PHONE                102183 non-null  object \n",
            " 28  WEBSITE              51983 non-null   object \n",
            " 29  SY_STATUS            102181 non-null  object \n",
            " 30  SY_STATUS_TEXT       102181 non-null  object \n",
            " 31  UPDATED_STATUS       102181 non-null  object \n",
            " 32  UPDATED_STATUS_TEXT  102181 non-null  object \n",
            " 33  EFFECTIVE_DATE       102181 non-null  object \n",
            " 34  SCH_TYPE_TEXT        102181 non-null  object \n",
            " 35  SCH_TYPE             102181 non-null  object \n",
            " 36  RECON_STATUS         102181 non-null  object \n",
            " 37  OUT_OF_STATE_FLAG    102179 non-null  object \n",
            " 38  CHARTER_TEXT         102179 non-null  object \n",
            " 39  CHARTAUTH1           6687 non-null    object \n",
            " 40  CHARTAUTHN1          6687 non-null    object \n",
            " 41  CHARTAUTH2           116 non-null     object \n",
            " 42  CHARTAUTHN2          116 non-null     object \n",
            " 43  NOGRADES             102179 non-null  object \n",
            " 44  G_PK_OFFERED         102179 non-null  object \n",
            " 45  G_KG_OFFERED         102179 non-null  object \n",
            " 46  G_1_OFFERED          102179 non-null  object \n",
            " 47  G_2_OFFERED          102179 non-null  object \n",
            " 48  G_3_OFFERED          102179 non-null  object \n",
            " 49  G_4_OFFERED          102179 non-null  object \n",
            " 50  G_5_OFFERED          102179 non-null  object \n",
            " 51  G_6_OFFERED          102179 non-null  object \n",
            " 52  G_7_OFFERED          102179 non-null  object \n",
            " 53  G_8_OFFERED          102179 non-null  object \n",
            " 54  G_9_OFFERED          102179 non-null  object \n",
            " 55  G_10_OFFERED         102179 non-null  object \n",
            " 56  G_11_OFFERED         102179 non-null  object \n",
            " 57  G_12_OFFERED         102179 non-null  object \n",
            " 58  G_13_OFFERED         102179 non-null  object \n",
            " 59  G_UG_OFFERED         102179 non-null  object \n",
            " 60  G_AE_OFFERED         102179 non-null  object \n",
            " 61  GSLO                 102179 non-null  object \n",
            " 62  GSHI                 102179 non-null  object \n",
            " 63  LEVEL                102179 non-null  object \n",
            " 64  IGOFFERED            102179 non-null  object \n",
            "dtypes: float64(3), int64(1), object(61)\n",
            "memory usage: 50.7+ MB\n"
          ]
        }
      ]
    },
    {
      "cell_type": "markdown",
      "source": [
        "It appears that there is some missing points in the school_info()"
      ],
      "metadata": {
        "id": "PJiW4Sf5V4KV"
      }
    },
    {
      "cell_type": "markdown",
      "source": [
        "## Convert data types, if necessary"
      ],
      "metadata": {
        "id": "kTG4W94-irIA"
      }
    },
    {
      "cell_type": "markdown",
      "source": [
        "\n",
        "We need to join two DataFrames using the school identity as the key, which is represented by the NCESSCH column. However, the column has different names in the two DataFrames and is stored as an int64 in one DataFrame and a float64 in the other.\n",
        "\n",
        "To merge the two DataFrames, we'll first cast the NCESSCH column in the DataFrame with the float64 datatype to an int64. Before casting, we must drop any rows where the NCESSCH value is NaN.\n"
      ],
      "metadata": {
        "id": "czg-VgjJfeQr"
      }
    },
    {
      "cell_type": "code",
      "source": [
        "school_info = school_info[school_info['NCESSCH'].isna() == False]"
      ],
      "metadata": {
        "id": "1j_Om5yXhVFg"
      },
      "execution_count": 103,
      "outputs": []
    },
    {
      "cell_type": "code",
      "source": [
        "school_info['NCESSCH'] = school_info['NCESSCH'].astype('int64')"
      ],
      "metadata": {
        "id": "s2laQSaihHr6",
        "outputId": "fb02a444-52eb-4982-b96d-b15d990b4994",
        "colab": {
          "base_uri": "https://localhost:8080/"
        }
      },
      "execution_count": 104,
      "outputs": [
        {
          "output_type": "stream",
          "name": "stderr",
          "text": [
            "<ipython-input-104-006ea9997674>:1: SettingWithCopyWarning: \n",
            "A value is trying to be set on a copy of a slice from a DataFrame.\n",
            "Try using .loc[row_indexer,col_indexer] = value instead\n",
            "\n",
            "See the caveats in the documentation: https://pandas.pydata.org/pandas-docs/stable/user_guide/indexing.html#returning-a-view-versus-a-copy\n",
            "  school_info['NCESSCH'] = school_info['NCESSCH'].astype('int64')\n"
          ]
        }
      ]
    },
    {
      "cell_type": "code",
      "source": [
        "school_info.info()"
      ],
      "metadata": {
        "id": "sKWyHKJfhaCI",
        "colab": {
          "base_uri": "https://localhost:8080/"
        },
        "outputId": "e16579e0-b11a-4726-a49a-01a199162898"
      },
      "execution_count": 105,
      "outputs": [
        {
          "output_type": "stream",
          "name": "stdout",
          "text": [
            "<class 'pandas.core.frame.DataFrame'>\n",
            "Int64Index: 102181 entries, 0 to 102182\n",
            "Data columns (total 65 columns):\n",
            " #   Column               Non-Null Count   Dtype  \n",
            "---  ------               --------------   -----  \n",
            " 0   SCHOOL_YEAR          102181 non-null  object \n",
            " 1   FIPST                102181 non-null  int64  \n",
            " 2   STATENAME            102181 non-null  object \n",
            " 3   ST                   102181 non-null  object \n",
            " 4   SCH_NAME             102181 non-null  object \n",
            " 5   LEA_NAME             102181 non-null  object \n",
            " 6   STATE_AGENCY_NO      102181 non-null  object \n",
            " 7   UNION                2531 non-null    float64\n",
            " 8   ST_LEAID             102181 non-null  object \n",
            " 9   LEAID                102181 non-null  object \n",
            " 10  ST_SCHID             102181 non-null  object \n",
            " 11  NCESSCH              102181 non-null  int64  \n",
            " 12  SCHID                102181 non-null  float64\n",
            " 13  MSTREET1             102181 non-null  object \n",
            " 14  MSTREET2             1825 non-null    object \n",
            " 15  MSTREET3             26 non-null      object \n",
            " 16  MCITY                102181 non-null  object \n",
            " 17  MSTATE               102181 non-null  object \n",
            " 18  MZIP                 102181 non-null  object \n",
            " 19  MZIP4                60417 non-null   object \n",
            " 20  LSTREET1             102181 non-null  object \n",
            " 21  LSTREET2             580 non-null     object \n",
            " 22  LSTREET3             11 non-null      object \n",
            " 23  LCITY                102181 non-null  object \n",
            " 24  LSTATE               102181 non-null  object \n",
            " 25  LZIP                 102181 non-null  object \n",
            " 26  LZIP4                59143 non-null   object \n",
            " 27  PHONE                102181 non-null  object \n",
            " 28  WEBSITE              51981 non-null   object \n",
            " 29  SY_STATUS            102179 non-null  object \n",
            " 30  SY_STATUS_TEXT       102179 non-null  object \n",
            " 31  UPDATED_STATUS       102179 non-null  object \n",
            " 32  UPDATED_STATUS_TEXT  102179 non-null  object \n",
            " 33  EFFECTIVE_DATE       102179 non-null  object \n",
            " 34  SCH_TYPE_TEXT        102179 non-null  object \n",
            " 35  SCH_TYPE             102179 non-null  object \n",
            " 36  RECON_STATUS         102179 non-null  object \n",
            " 37  OUT_OF_STATE_FLAG    102179 non-null  object \n",
            " 38  CHARTER_TEXT         102179 non-null  object \n",
            " 39  CHARTAUTH1           6687 non-null    object \n",
            " 40  CHARTAUTHN1          6687 non-null    object \n",
            " 41  CHARTAUTH2           116 non-null     object \n",
            " 42  CHARTAUTHN2          116 non-null     object \n",
            " 43  NOGRADES             102179 non-null  object \n",
            " 44  G_PK_OFFERED         102179 non-null  object \n",
            " 45  G_KG_OFFERED         102179 non-null  object \n",
            " 46  G_1_OFFERED          102179 non-null  object \n",
            " 47  G_2_OFFERED          102179 non-null  object \n",
            " 48  G_3_OFFERED          102179 non-null  object \n",
            " 49  G_4_OFFERED          102179 non-null  object \n",
            " 50  G_5_OFFERED          102179 non-null  object \n",
            " 51  G_6_OFFERED          102179 non-null  object \n",
            " 52  G_7_OFFERED          102179 non-null  object \n",
            " 53  G_8_OFFERED          102179 non-null  object \n",
            " 54  G_9_OFFERED          102179 non-null  object \n",
            " 55  G_10_OFFERED         102179 non-null  object \n",
            " 56  G_11_OFFERED         102179 non-null  object \n",
            " 57  G_12_OFFERED         102179 non-null  object \n",
            " 58  G_13_OFFERED         102179 non-null  object \n",
            " 59  G_UG_OFFERED         102179 non-null  object \n",
            " 60  G_AE_OFFERED         102179 non-null  object \n",
            " 61  GSLO                 102179 non-null  object \n",
            " 62  GSHI                 102179 non-null  object \n",
            " 63  LEVEL                102179 non-null  object \n",
            " 64  IGOFFERED            102179 non-null  object \n",
            "dtypes: float64(2), int64(2), object(61)\n",
            "memory usage: 51.5+ MB\n"
          ]
        }
      ]
    },
    {
      "cell_type": "markdown",
      "source": [
        "## Select relevant subsets of the data"
      ],
      "metadata": {
        "id": "HbsdH56_ijIS"
      }
    },
    {
      "cell_type": "markdown",
      "source": [
        "Since the school information data set contains a lot of information, we only need the year school identity, location, and school type information."
      ],
      "metadata": {
        "id": "RCnA-Nw55Edg"
      }
    },
    {
      "cell_type": "code",
      "source": [
        "school_info = school_info[['SCHOOL_YEAR', 'NCESSCH', 'MSTATE', 'MZIP', 'SCH_TYPE_TEXT', 'LEVEL']]"
      ],
      "metadata": {
        "id": "BbKrJBPL5kxR"
      },
      "execution_count": 106,
      "outputs": []
    },
    {
      "cell_type": "code",
      "source": [
        "school_info.head()"
      ],
      "metadata": {
        "colab": {
          "base_uri": "https://localhost:8080/",
          "height": 206
        },
        "id": "H4Xrdb4651qO",
        "outputId": "bc0a7b03-76ec-46f3-e6f1-40151cae5b9a"
      },
      "execution_count": 107,
      "outputs": [
        {
          "output_type": "execute_result",
          "data": {
            "text/plain": [
              "  SCHOOL_YEAR      NCESSCH MSTATE   MZIP       SCH_TYPE_TEXT LEVEL\n",
              "0   2016-2017  10000200277     AL  35220  Alternative School  High\n",
              "1   2016-2017  10000201667     AL  36057  Alternative School  High\n",
              "2   2016-2017  10000201670     AL  36057  Alternative School  High\n",
              "3   2016-2017  10000201705     AL  36057  Alternative School  High\n",
              "4   2016-2017  10000201706     AL  35206  Alternative School  High"
            ],
            "text/html": [
              "\n",
              "  <div id=\"df-2bba1bec-aa4e-4652-9f7b-e06fe89bc229\">\n",
              "    <div class=\"colab-df-container\">\n",
              "      <div>\n",
              "<style scoped>\n",
              "    .dataframe tbody tr th:only-of-type {\n",
              "        vertical-align: middle;\n",
              "    }\n",
              "\n",
              "    .dataframe tbody tr th {\n",
              "        vertical-align: top;\n",
              "    }\n",
              "\n",
              "    .dataframe thead th {\n",
              "        text-align: right;\n",
              "    }\n",
              "</style>\n",
              "<table border=\"1\" class=\"dataframe\">\n",
              "  <thead>\n",
              "    <tr style=\"text-align: right;\">\n",
              "      <th></th>\n",
              "      <th>SCHOOL_YEAR</th>\n",
              "      <th>NCESSCH</th>\n",
              "      <th>MSTATE</th>\n",
              "      <th>MZIP</th>\n",
              "      <th>SCH_TYPE_TEXT</th>\n",
              "      <th>LEVEL</th>\n",
              "    </tr>\n",
              "  </thead>\n",
              "  <tbody>\n",
              "    <tr>\n",
              "      <th>0</th>\n",
              "      <td>2016-2017</td>\n",
              "      <td>10000200277</td>\n",
              "      <td>AL</td>\n",
              "      <td>35220</td>\n",
              "      <td>Alternative School</td>\n",
              "      <td>High</td>\n",
              "    </tr>\n",
              "    <tr>\n",
              "      <th>1</th>\n",
              "      <td>2016-2017</td>\n",
              "      <td>10000201667</td>\n",
              "      <td>AL</td>\n",
              "      <td>36057</td>\n",
              "      <td>Alternative School</td>\n",
              "      <td>High</td>\n",
              "    </tr>\n",
              "    <tr>\n",
              "      <th>2</th>\n",
              "      <td>2016-2017</td>\n",
              "      <td>10000201670</td>\n",
              "      <td>AL</td>\n",
              "      <td>36057</td>\n",
              "      <td>Alternative School</td>\n",
              "      <td>High</td>\n",
              "    </tr>\n",
              "    <tr>\n",
              "      <th>3</th>\n",
              "      <td>2016-2017</td>\n",
              "      <td>10000201705</td>\n",
              "      <td>AL</td>\n",
              "      <td>36057</td>\n",
              "      <td>Alternative School</td>\n",
              "      <td>High</td>\n",
              "    </tr>\n",
              "    <tr>\n",
              "      <th>4</th>\n",
              "      <td>2016-2017</td>\n",
              "      <td>10000201706</td>\n",
              "      <td>AL</td>\n",
              "      <td>35206</td>\n",
              "      <td>Alternative School</td>\n",
              "      <td>High</td>\n",
              "    </tr>\n",
              "  </tbody>\n",
              "</table>\n",
              "</div>\n",
              "      <button class=\"colab-df-convert\" onclick=\"convertToInteractive('df-2bba1bec-aa4e-4652-9f7b-e06fe89bc229')\"\n",
              "              title=\"Convert this dataframe to an interactive table.\"\n",
              "              style=\"display:none;\">\n",
              "        \n",
              "  <svg xmlns=\"http://www.w3.org/2000/svg\" height=\"24px\"viewBox=\"0 0 24 24\"\n",
              "       width=\"24px\">\n",
              "    <path d=\"M0 0h24v24H0V0z\" fill=\"none\"/>\n",
              "    <path d=\"M18.56 5.44l.94 2.06.94-2.06 2.06-.94-2.06-.94-.94-2.06-.94 2.06-2.06.94zm-11 1L8.5 8.5l.94-2.06 2.06-.94-2.06-.94L8.5 2.5l-.94 2.06-2.06.94zm10 10l.94 2.06.94-2.06 2.06-.94-2.06-.94-.94-2.06-.94 2.06-2.06.94z\"/><path d=\"M17.41 7.96l-1.37-1.37c-.4-.4-.92-.59-1.43-.59-.52 0-1.04.2-1.43.59L10.3 9.45l-7.72 7.72c-.78.78-.78 2.05 0 2.83L4 21.41c.39.39.9.59 1.41.59.51 0 1.02-.2 1.41-.59l7.78-7.78 2.81-2.81c.8-.78.8-2.07 0-2.86zM5.41 20L4 18.59l7.72-7.72 1.47 1.35L5.41 20z\"/>\n",
              "  </svg>\n",
              "      </button>\n",
              "      \n",
              "  <style>\n",
              "    .colab-df-container {\n",
              "      display:flex;\n",
              "      flex-wrap:wrap;\n",
              "      gap: 12px;\n",
              "    }\n",
              "\n",
              "    .colab-df-convert {\n",
              "      background-color: #E8F0FE;\n",
              "      border: none;\n",
              "      border-radius: 50%;\n",
              "      cursor: pointer;\n",
              "      display: none;\n",
              "      fill: #1967D2;\n",
              "      height: 32px;\n",
              "      padding: 0 0 0 0;\n",
              "      width: 32px;\n",
              "    }\n",
              "\n",
              "    .colab-df-convert:hover {\n",
              "      background-color: #E2EBFA;\n",
              "      box-shadow: 0px 1px 2px rgba(60, 64, 67, 0.3), 0px 1px 3px 1px rgba(60, 64, 67, 0.15);\n",
              "      fill: #174EA6;\n",
              "    }\n",
              "\n",
              "    [theme=dark] .colab-df-convert {\n",
              "      background-color: #3B4455;\n",
              "      fill: #D2E3FC;\n",
              "    }\n",
              "\n",
              "    [theme=dark] .colab-df-convert:hover {\n",
              "      background-color: #434B5C;\n",
              "      box-shadow: 0px 1px 3px 1px rgba(0, 0, 0, 0.15);\n",
              "      filter: drop-shadow(0px 1px 2px rgba(0, 0, 0, 0.3));\n",
              "      fill: #FFFFFF;\n",
              "    }\n",
              "  </style>\n",
              "\n",
              "      <script>\n",
              "        const buttonEl =\n",
              "          document.querySelector('#df-2bba1bec-aa4e-4652-9f7b-e06fe89bc229 button.colab-df-convert');\n",
              "        buttonEl.style.display =\n",
              "          google.colab.kernel.accessAllowed ? 'block' : 'none';\n",
              "\n",
              "        async function convertToInteractive(key) {\n",
              "          const element = document.querySelector('#df-2bba1bec-aa4e-4652-9f7b-e06fe89bc229');\n",
              "          const dataTable =\n",
              "            await google.colab.kernel.invokeFunction('convertToInteractive',\n",
              "                                                     [key], {});\n",
              "          if (!dataTable) return;\n",
              "\n",
              "          const docLinkHtml = 'Like what you see? Visit the ' +\n",
              "            '<a target=\"_blank\" href=https://colab.research.google.com/notebooks/data_table.ipynb>data table notebook</a>'\n",
              "            + ' to learn more about interactive tables.';\n",
              "          element.innerHTML = '';\n",
              "          dataTable['output_type'] = 'display_data';\n",
              "          await google.colab.output.renderOutput(dataTable, element);\n",
              "          const docLink = document.createElement('div');\n",
              "          docLink.innerHTML = docLinkHtml;\n",
              "          element.appendChild(docLink);\n",
              "        }\n",
              "      </script>\n",
              "    </div>\n",
              "  </div>\n",
              "  "
            ]
          },
          "metadata": {},
          "execution_count": 107
        }
      ]
    },
    {
      "cell_type": "markdown",
      "source": [
        "## Rename columns"
      ],
      "metadata": {
        "id": "3wvK6vF-85aX"
      }
    },
    {
      "cell_type": "markdown",
      "source": [
        "Renaming the columns to follow best practices of being lowercase, snake_case"
      ],
      "metadata": {
        "id": "RTsncRdEXutV"
      }
    },
    {
      "cell_type": "code",
      "source": [
        "edgap = edgap.rename(columns={\"NCESSCH School ID\":\"id\", \n",
        "              \"CT Pct Adults with College Degree\":\"percent_college\",        \n",
        "              \"CT Unemployment Rate\":\"rate_unemployment\", \n",
        "              \"CT Pct Childre In Married Couple Family\":\"percent_married\",\n",
        "              \"CT Median Household Income\":\"median_income\",\n",
        "              \"School ACT average (or equivalent if SAT score)\":\"average_act\",\n",
        "              \"School Pct Free and Reduced Lunch\":\"percent_lunch\"})"
      ],
      "metadata": {
        "id": "OXpbbI-v9QSY"
      },
      "execution_count": 108,
      "outputs": []
    },
    {
      "cell_type": "code",
      "source": [
        "school_info = school_info.rename(columns={'SCHOOL_YEAR':'year', \n",
        "                                          'NCESSCH':'id', \n",
        "                                          'MSTATE':'state',\n",
        "                                          'MZIP':'zip_code',\n",
        "                                          'SCH_TYPE_TEXT':'school_type',\n",
        "                                          'LEVEL':'school_level'})"
      ],
      "metadata": {
        "id": "bOQiTzcE9YH9"
      },
      "execution_count": 109,
      "outputs": []
    },
    {
      "cell_type": "code",
      "source": [
        "edgap.head()"
      ],
      "metadata": {
        "colab": {
          "base_uri": "https://localhost:8080/",
          "height": 270
        },
        "id": "Lg1BobXY90xI",
        "outputId": "fe1cba95-9655-44e5-a437-9efad6b698b7"
      },
      "execution_count": 110,
      "outputs": [
        {
          "output_type": "execute_result",
          "data": {
            "text/plain": [
              "             id  rate_unemployment  percent_college  percent_married  \\\n",
              "0  100001600143           0.117962         0.445283         0.346495   \n",
              "1  100008000024           0.063984         0.662765         0.767619   \n",
              "2  100008000225           0.056460         0.701864         0.713090   \n",
              "3  100017000029           0.044739         0.692062         0.641283   \n",
              "4  100018000040           0.077014         0.640060         0.834402   \n",
              "\n",
              "   median_income  average_act  percent_lunch  \n",
              "0        42820.0    20.433455       0.066901  \n",
              "1        89320.0    19.498168       0.112412  \n",
              "2        84140.0    19.554335       0.096816  \n",
              "3        56500.0    17.737485       0.296960  \n",
              "4        54015.0    18.245421       0.262641  "
            ],
            "text/html": [
              "\n",
              "  <div id=\"df-283a8988-f1d5-41a8-b2e0-8e944df7d1f4\">\n",
              "    <div class=\"colab-df-container\">\n",
              "      <div>\n",
              "<style scoped>\n",
              "    .dataframe tbody tr th:only-of-type {\n",
              "        vertical-align: middle;\n",
              "    }\n",
              "\n",
              "    .dataframe tbody tr th {\n",
              "        vertical-align: top;\n",
              "    }\n",
              "\n",
              "    .dataframe thead th {\n",
              "        text-align: right;\n",
              "    }\n",
              "</style>\n",
              "<table border=\"1\" class=\"dataframe\">\n",
              "  <thead>\n",
              "    <tr style=\"text-align: right;\">\n",
              "      <th></th>\n",
              "      <th>id</th>\n",
              "      <th>rate_unemployment</th>\n",
              "      <th>percent_college</th>\n",
              "      <th>percent_married</th>\n",
              "      <th>median_income</th>\n",
              "      <th>average_act</th>\n",
              "      <th>percent_lunch</th>\n",
              "    </tr>\n",
              "  </thead>\n",
              "  <tbody>\n",
              "    <tr>\n",
              "      <th>0</th>\n",
              "      <td>100001600143</td>\n",
              "      <td>0.117962</td>\n",
              "      <td>0.445283</td>\n",
              "      <td>0.346495</td>\n",
              "      <td>42820.0</td>\n",
              "      <td>20.433455</td>\n",
              "      <td>0.066901</td>\n",
              "    </tr>\n",
              "    <tr>\n",
              "      <th>1</th>\n",
              "      <td>100008000024</td>\n",
              "      <td>0.063984</td>\n",
              "      <td>0.662765</td>\n",
              "      <td>0.767619</td>\n",
              "      <td>89320.0</td>\n",
              "      <td>19.498168</td>\n",
              "      <td>0.112412</td>\n",
              "    </tr>\n",
              "    <tr>\n",
              "      <th>2</th>\n",
              "      <td>100008000225</td>\n",
              "      <td>0.056460</td>\n",
              "      <td>0.701864</td>\n",
              "      <td>0.713090</td>\n",
              "      <td>84140.0</td>\n",
              "      <td>19.554335</td>\n",
              "      <td>0.096816</td>\n",
              "    </tr>\n",
              "    <tr>\n",
              "      <th>3</th>\n",
              "      <td>100017000029</td>\n",
              "      <td>0.044739</td>\n",
              "      <td>0.692062</td>\n",
              "      <td>0.641283</td>\n",
              "      <td>56500.0</td>\n",
              "      <td>17.737485</td>\n",
              "      <td>0.296960</td>\n",
              "    </tr>\n",
              "    <tr>\n",
              "      <th>4</th>\n",
              "      <td>100018000040</td>\n",
              "      <td>0.077014</td>\n",
              "      <td>0.640060</td>\n",
              "      <td>0.834402</td>\n",
              "      <td>54015.0</td>\n",
              "      <td>18.245421</td>\n",
              "      <td>0.262641</td>\n",
              "    </tr>\n",
              "  </tbody>\n",
              "</table>\n",
              "</div>\n",
              "      <button class=\"colab-df-convert\" onclick=\"convertToInteractive('df-283a8988-f1d5-41a8-b2e0-8e944df7d1f4')\"\n",
              "              title=\"Convert this dataframe to an interactive table.\"\n",
              "              style=\"display:none;\">\n",
              "        \n",
              "  <svg xmlns=\"http://www.w3.org/2000/svg\" height=\"24px\"viewBox=\"0 0 24 24\"\n",
              "       width=\"24px\">\n",
              "    <path d=\"M0 0h24v24H0V0z\" fill=\"none\"/>\n",
              "    <path d=\"M18.56 5.44l.94 2.06.94-2.06 2.06-.94-2.06-.94-.94-2.06-.94 2.06-2.06.94zm-11 1L8.5 8.5l.94-2.06 2.06-.94-2.06-.94L8.5 2.5l-.94 2.06-2.06.94zm10 10l.94 2.06.94-2.06 2.06-.94-2.06-.94-.94-2.06-.94 2.06-2.06.94z\"/><path d=\"M17.41 7.96l-1.37-1.37c-.4-.4-.92-.59-1.43-.59-.52 0-1.04.2-1.43.59L10.3 9.45l-7.72 7.72c-.78.78-.78 2.05 0 2.83L4 21.41c.39.39.9.59 1.41.59.51 0 1.02-.2 1.41-.59l7.78-7.78 2.81-2.81c.8-.78.8-2.07 0-2.86zM5.41 20L4 18.59l7.72-7.72 1.47 1.35L5.41 20z\"/>\n",
              "  </svg>\n",
              "      </button>\n",
              "      \n",
              "  <style>\n",
              "    .colab-df-container {\n",
              "      display:flex;\n",
              "      flex-wrap:wrap;\n",
              "      gap: 12px;\n",
              "    }\n",
              "\n",
              "    .colab-df-convert {\n",
              "      background-color: #E8F0FE;\n",
              "      border: none;\n",
              "      border-radius: 50%;\n",
              "      cursor: pointer;\n",
              "      display: none;\n",
              "      fill: #1967D2;\n",
              "      height: 32px;\n",
              "      padding: 0 0 0 0;\n",
              "      width: 32px;\n",
              "    }\n",
              "\n",
              "    .colab-df-convert:hover {\n",
              "      background-color: #E2EBFA;\n",
              "      box-shadow: 0px 1px 2px rgba(60, 64, 67, 0.3), 0px 1px 3px 1px rgba(60, 64, 67, 0.15);\n",
              "      fill: #174EA6;\n",
              "    }\n",
              "\n",
              "    [theme=dark] .colab-df-convert {\n",
              "      background-color: #3B4455;\n",
              "      fill: #D2E3FC;\n",
              "    }\n",
              "\n",
              "    [theme=dark] .colab-df-convert:hover {\n",
              "      background-color: #434B5C;\n",
              "      box-shadow: 0px 1px 3px 1px rgba(0, 0, 0, 0.15);\n",
              "      filter: drop-shadow(0px 1px 2px rgba(0, 0, 0, 0.3));\n",
              "      fill: #FFFFFF;\n",
              "    }\n",
              "  </style>\n",
              "\n",
              "      <script>\n",
              "        const buttonEl =\n",
              "          document.querySelector('#df-283a8988-f1d5-41a8-b2e0-8e944df7d1f4 button.colab-df-convert');\n",
              "        buttonEl.style.display =\n",
              "          google.colab.kernel.accessAllowed ? 'block' : 'none';\n",
              "\n",
              "        async function convertToInteractive(key) {\n",
              "          const element = document.querySelector('#df-283a8988-f1d5-41a8-b2e0-8e944df7d1f4');\n",
              "          const dataTable =\n",
              "            await google.colab.kernel.invokeFunction('convertToInteractive',\n",
              "                                                     [key], {});\n",
              "          if (!dataTable) return;\n",
              "\n",
              "          const docLinkHtml = 'Like what you see? Visit the ' +\n",
              "            '<a target=\"_blank\" href=https://colab.research.google.com/notebooks/data_table.ipynb>data table notebook</a>'\n",
              "            + ' to learn more about interactive tables.';\n",
              "          element.innerHTML = '';\n",
              "          dataTable['output_type'] = 'display_data';\n",
              "          await google.colab.output.renderOutput(dataTable, element);\n",
              "          const docLink = document.createElement('div');\n",
              "          docLink.innerHTML = docLinkHtml;\n",
              "          element.appendChild(docLink);\n",
              "        }\n",
              "      </script>\n",
              "    </div>\n",
              "  </div>\n",
              "  "
            ]
          },
          "metadata": {},
          "execution_count": 110
        }
      ]
    },
    {
      "cell_type": "code",
      "source": [
        "school_info.head()"
      ],
      "metadata": {
        "colab": {
          "base_uri": "https://localhost:8080/",
          "height": 206
        },
        "id": "2-qLpnoC93lc",
        "outputId": "35578cc8-fbcd-40a4-8261-a8eef3094da3"
      },
      "execution_count": 111,
      "outputs": [
        {
          "output_type": "execute_result",
          "data": {
            "text/plain": [
              "        year           id state zip_code         school_type school_level\n",
              "0  2016-2017  10000200277    AL    35220  Alternative School         High\n",
              "1  2016-2017  10000201667    AL    36057  Alternative School         High\n",
              "2  2016-2017  10000201670    AL    36057  Alternative School         High\n",
              "3  2016-2017  10000201705    AL    36057  Alternative School         High\n",
              "4  2016-2017  10000201706    AL    35206  Alternative School         High"
            ],
            "text/html": [
              "\n",
              "  <div id=\"df-23c5c53b-32ea-4425-9a1c-08ab7ff4d29a\">\n",
              "    <div class=\"colab-df-container\">\n",
              "      <div>\n",
              "<style scoped>\n",
              "    .dataframe tbody tr th:only-of-type {\n",
              "        vertical-align: middle;\n",
              "    }\n",
              "\n",
              "    .dataframe tbody tr th {\n",
              "        vertical-align: top;\n",
              "    }\n",
              "\n",
              "    .dataframe thead th {\n",
              "        text-align: right;\n",
              "    }\n",
              "</style>\n",
              "<table border=\"1\" class=\"dataframe\">\n",
              "  <thead>\n",
              "    <tr style=\"text-align: right;\">\n",
              "      <th></th>\n",
              "      <th>year</th>\n",
              "      <th>id</th>\n",
              "      <th>state</th>\n",
              "      <th>zip_code</th>\n",
              "      <th>school_type</th>\n",
              "      <th>school_level</th>\n",
              "    </tr>\n",
              "  </thead>\n",
              "  <tbody>\n",
              "    <tr>\n",
              "      <th>0</th>\n",
              "      <td>2016-2017</td>\n",
              "      <td>10000200277</td>\n",
              "      <td>AL</td>\n",
              "      <td>35220</td>\n",
              "      <td>Alternative School</td>\n",
              "      <td>High</td>\n",
              "    </tr>\n",
              "    <tr>\n",
              "      <th>1</th>\n",
              "      <td>2016-2017</td>\n",
              "      <td>10000201667</td>\n",
              "      <td>AL</td>\n",
              "      <td>36057</td>\n",
              "      <td>Alternative School</td>\n",
              "      <td>High</td>\n",
              "    </tr>\n",
              "    <tr>\n",
              "      <th>2</th>\n",
              "      <td>2016-2017</td>\n",
              "      <td>10000201670</td>\n",
              "      <td>AL</td>\n",
              "      <td>36057</td>\n",
              "      <td>Alternative School</td>\n",
              "      <td>High</td>\n",
              "    </tr>\n",
              "    <tr>\n",
              "      <th>3</th>\n",
              "      <td>2016-2017</td>\n",
              "      <td>10000201705</td>\n",
              "      <td>AL</td>\n",
              "      <td>36057</td>\n",
              "      <td>Alternative School</td>\n",
              "      <td>High</td>\n",
              "    </tr>\n",
              "    <tr>\n",
              "      <th>4</th>\n",
              "      <td>2016-2017</td>\n",
              "      <td>10000201706</td>\n",
              "      <td>AL</td>\n",
              "      <td>35206</td>\n",
              "      <td>Alternative School</td>\n",
              "      <td>High</td>\n",
              "    </tr>\n",
              "  </tbody>\n",
              "</table>\n",
              "</div>\n",
              "      <button class=\"colab-df-convert\" onclick=\"convertToInteractive('df-23c5c53b-32ea-4425-9a1c-08ab7ff4d29a')\"\n",
              "              title=\"Convert this dataframe to an interactive table.\"\n",
              "              style=\"display:none;\">\n",
              "        \n",
              "  <svg xmlns=\"http://www.w3.org/2000/svg\" height=\"24px\"viewBox=\"0 0 24 24\"\n",
              "       width=\"24px\">\n",
              "    <path d=\"M0 0h24v24H0V0z\" fill=\"none\"/>\n",
              "    <path d=\"M18.56 5.44l.94 2.06.94-2.06 2.06-.94-2.06-.94-.94-2.06-.94 2.06-2.06.94zm-11 1L8.5 8.5l.94-2.06 2.06-.94-2.06-.94L8.5 2.5l-.94 2.06-2.06.94zm10 10l.94 2.06.94-2.06 2.06-.94-2.06-.94-.94-2.06-.94 2.06-2.06.94z\"/><path d=\"M17.41 7.96l-1.37-1.37c-.4-.4-.92-.59-1.43-.59-.52 0-1.04.2-1.43.59L10.3 9.45l-7.72 7.72c-.78.78-.78 2.05 0 2.83L4 21.41c.39.39.9.59 1.41.59.51 0 1.02-.2 1.41-.59l7.78-7.78 2.81-2.81c.8-.78.8-2.07 0-2.86zM5.41 20L4 18.59l7.72-7.72 1.47 1.35L5.41 20z\"/>\n",
              "  </svg>\n",
              "      </button>\n",
              "      \n",
              "  <style>\n",
              "    .colab-df-container {\n",
              "      display:flex;\n",
              "      flex-wrap:wrap;\n",
              "      gap: 12px;\n",
              "    }\n",
              "\n",
              "    .colab-df-convert {\n",
              "      background-color: #E8F0FE;\n",
              "      border: none;\n",
              "      border-radius: 50%;\n",
              "      cursor: pointer;\n",
              "      display: none;\n",
              "      fill: #1967D2;\n",
              "      height: 32px;\n",
              "      padding: 0 0 0 0;\n",
              "      width: 32px;\n",
              "    }\n",
              "\n",
              "    .colab-df-convert:hover {\n",
              "      background-color: #E2EBFA;\n",
              "      box-shadow: 0px 1px 2px rgba(60, 64, 67, 0.3), 0px 1px 3px 1px rgba(60, 64, 67, 0.15);\n",
              "      fill: #174EA6;\n",
              "    }\n",
              "\n",
              "    [theme=dark] .colab-df-convert {\n",
              "      background-color: #3B4455;\n",
              "      fill: #D2E3FC;\n",
              "    }\n",
              "\n",
              "    [theme=dark] .colab-df-convert:hover {\n",
              "      background-color: #434B5C;\n",
              "      box-shadow: 0px 1px 3px 1px rgba(0, 0, 0, 0.15);\n",
              "      filter: drop-shadow(0px 1px 2px rgba(0, 0, 0, 0.3));\n",
              "      fill: #FFFFFF;\n",
              "    }\n",
              "  </style>\n",
              "\n",
              "      <script>\n",
              "        const buttonEl =\n",
              "          document.querySelector('#df-23c5c53b-32ea-4425-9a1c-08ab7ff4d29a button.colab-df-convert');\n",
              "        buttonEl.style.display =\n",
              "          google.colab.kernel.accessAllowed ? 'block' : 'none';\n",
              "\n",
              "        async function convertToInteractive(key) {\n",
              "          const element = document.querySelector('#df-23c5c53b-32ea-4425-9a1c-08ab7ff4d29a');\n",
              "          const dataTable =\n",
              "            await google.colab.kernel.invokeFunction('convertToInteractive',\n",
              "                                                     [key], {});\n",
              "          if (!dataTable) return;\n",
              "\n",
              "          const docLinkHtml = 'Like what you see? Visit the ' +\n",
              "            '<a target=\"_blank\" href=https://colab.research.google.com/notebooks/data_table.ipynb>data table notebook</a>'\n",
              "            + ' to learn more about interactive tables.';\n",
              "          element.innerHTML = '';\n",
              "          dataTable['output_type'] = 'display_data';\n",
              "          await google.colab.output.renderOutput(dataTable, element);\n",
              "          const docLink = document.createElement('div');\n",
              "          docLink.innerHTML = docLinkHtml;\n",
              "          element.appendChild(docLink);\n",
              "        }\n",
              "      </script>\n",
              "    </div>\n",
              "  </div>\n",
              "  "
            ]
          },
          "metadata": {},
          "execution_count": 111
        }
      ]
    },
    {
      "cell_type": "markdown",
      "source": [
        "## Join data frames "
      ],
      "metadata": {
        "id": "BkCnFJdVryvv"
      }
    },
    {
      "cell_type": "markdown",
      "source": [
        "Here we are joing the two data sets with a left join "
      ],
      "metadata": {
        "id": "OZmpt9EwwVlE"
      }
    },
    {
      "cell_type": "code",
      "source": [
        "edgap.info()"
      ],
      "metadata": {
        "colab": {
          "base_uri": "https://localhost:8080/"
        },
        "id": "DdZBiSVBWMk8",
        "outputId": "7533eb5d-99d9-4167-8c4e-7c359709dc9a"
      },
      "execution_count": 112,
      "outputs": [
        {
          "output_type": "stream",
          "name": "stdout",
          "text": [
            "<class 'pandas.core.frame.DataFrame'>\n",
            "RangeIndex: 7986 entries, 0 to 7985\n",
            "Data columns (total 7 columns):\n",
            " #   Column             Non-Null Count  Dtype  \n",
            "---  ------             --------------  -----  \n",
            " 0   id                 7986 non-null   int64  \n",
            " 1   rate_unemployment  7972 non-null   float64\n",
            " 2   percent_college    7973 non-null   float64\n",
            " 3   percent_married    7961 non-null   float64\n",
            " 4   median_income      7966 non-null   float64\n",
            " 5   average_act        7986 non-null   float64\n",
            " 6   percent_lunch      7986 non-null   float64\n",
            "dtypes: float64(6), int64(1)\n",
            "memory usage: 436.9 KB\n"
          ]
        }
      ]
    },
    {
      "cell_type": "code",
      "source": [
        "school_info.info()"
      ],
      "metadata": {
        "colab": {
          "base_uri": "https://localhost:8080/"
        },
        "id": "t-Vn24SoWOGi",
        "outputId": "44edad76-b1e8-4812-ad4e-07e9cb0e7a51"
      },
      "execution_count": 113,
      "outputs": [
        {
          "output_type": "stream",
          "name": "stdout",
          "text": [
            "<class 'pandas.core.frame.DataFrame'>\n",
            "Int64Index: 102181 entries, 0 to 102182\n",
            "Data columns (total 6 columns):\n",
            " #   Column        Non-Null Count   Dtype \n",
            "---  ------        --------------   ----- \n",
            " 0   year          102181 non-null  object\n",
            " 1   id            102181 non-null  int64 \n",
            " 2   state         102181 non-null  object\n",
            " 3   zip_code      102181 non-null  object\n",
            " 4   school_type   102179 non-null  object\n",
            " 5   school_level  102179 non-null  object\n",
            "dtypes: int64(1), object(5)\n",
            "memory usage: 5.5+ MB\n"
          ]
        }
      ]
    },
    {
      "cell_type": "code",
      "source": [
        "df = edgap.merge(school_info, how = 'left', on='id')"
      ],
      "metadata": {
        "id": "NFrORAYPrVex"
      },
      "execution_count": 114,
      "outputs": []
    },
    {
      "cell_type": "code",
      "source": [
        "df.head()"
      ],
      "metadata": {
        "colab": {
          "base_uri": "https://localhost:8080/",
          "height": 357
        },
        "id": "9itKYgNOsjYJ",
        "outputId": "22116d7e-b81a-4cd4-cf44-7a9fc9dd0057"
      },
      "execution_count": 115,
      "outputs": [
        {
          "output_type": "execute_result",
          "data": {
            "text/plain": [
              "             id  rate_unemployment  percent_college  percent_married  \\\n",
              "0  100001600143           0.117962         0.445283         0.346495   \n",
              "1  100008000024           0.063984         0.662765         0.767619   \n",
              "2  100008000225           0.056460         0.701864         0.713090   \n",
              "3  100017000029           0.044739         0.692062         0.641283   \n",
              "4  100018000040           0.077014         0.640060         0.834402   \n",
              "\n",
              "   median_income  average_act  percent_lunch       year state zip_code  \\\n",
              "0        42820.0    20.433455       0.066901  2016-2017    DE    19804   \n",
              "1        89320.0    19.498168       0.112412  2016-2017    DE    19709   \n",
              "2        84140.0    19.554335       0.096816  2016-2017    DE    19709   \n",
              "3        56500.0    17.737485       0.296960  2016-2017    DE    19958   \n",
              "4        54015.0    18.245421       0.262641  2016-2017    DE    19934   \n",
              "\n",
              "      school_type school_level  \n",
              "0  Regular School         High  \n",
              "1  Regular School         High  \n",
              "2  Regular School         High  \n",
              "3  Regular School         High  \n",
              "4  Regular School         High  "
            ],
            "text/html": [
              "\n",
              "  <div id=\"df-5ad1fb24-cecc-4bf7-abff-d0e6dc5c04c6\">\n",
              "    <div class=\"colab-df-container\">\n",
              "      <div>\n",
              "<style scoped>\n",
              "    .dataframe tbody tr th:only-of-type {\n",
              "        vertical-align: middle;\n",
              "    }\n",
              "\n",
              "    .dataframe tbody tr th {\n",
              "        vertical-align: top;\n",
              "    }\n",
              "\n",
              "    .dataframe thead th {\n",
              "        text-align: right;\n",
              "    }\n",
              "</style>\n",
              "<table border=\"1\" class=\"dataframe\">\n",
              "  <thead>\n",
              "    <tr style=\"text-align: right;\">\n",
              "      <th></th>\n",
              "      <th>id</th>\n",
              "      <th>rate_unemployment</th>\n",
              "      <th>percent_college</th>\n",
              "      <th>percent_married</th>\n",
              "      <th>median_income</th>\n",
              "      <th>average_act</th>\n",
              "      <th>percent_lunch</th>\n",
              "      <th>year</th>\n",
              "      <th>state</th>\n",
              "      <th>zip_code</th>\n",
              "      <th>school_type</th>\n",
              "      <th>school_level</th>\n",
              "    </tr>\n",
              "  </thead>\n",
              "  <tbody>\n",
              "    <tr>\n",
              "      <th>0</th>\n",
              "      <td>100001600143</td>\n",
              "      <td>0.117962</td>\n",
              "      <td>0.445283</td>\n",
              "      <td>0.346495</td>\n",
              "      <td>42820.0</td>\n",
              "      <td>20.433455</td>\n",
              "      <td>0.066901</td>\n",
              "      <td>2016-2017</td>\n",
              "      <td>DE</td>\n",
              "      <td>19804</td>\n",
              "      <td>Regular School</td>\n",
              "      <td>High</td>\n",
              "    </tr>\n",
              "    <tr>\n",
              "      <th>1</th>\n",
              "      <td>100008000024</td>\n",
              "      <td>0.063984</td>\n",
              "      <td>0.662765</td>\n",
              "      <td>0.767619</td>\n",
              "      <td>89320.0</td>\n",
              "      <td>19.498168</td>\n",
              "      <td>0.112412</td>\n",
              "      <td>2016-2017</td>\n",
              "      <td>DE</td>\n",
              "      <td>19709</td>\n",
              "      <td>Regular School</td>\n",
              "      <td>High</td>\n",
              "    </tr>\n",
              "    <tr>\n",
              "      <th>2</th>\n",
              "      <td>100008000225</td>\n",
              "      <td>0.056460</td>\n",
              "      <td>0.701864</td>\n",
              "      <td>0.713090</td>\n",
              "      <td>84140.0</td>\n",
              "      <td>19.554335</td>\n",
              "      <td>0.096816</td>\n",
              "      <td>2016-2017</td>\n",
              "      <td>DE</td>\n",
              "      <td>19709</td>\n",
              "      <td>Regular School</td>\n",
              "      <td>High</td>\n",
              "    </tr>\n",
              "    <tr>\n",
              "      <th>3</th>\n",
              "      <td>100017000029</td>\n",
              "      <td>0.044739</td>\n",
              "      <td>0.692062</td>\n",
              "      <td>0.641283</td>\n",
              "      <td>56500.0</td>\n",
              "      <td>17.737485</td>\n",
              "      <td>0.296960</td>\n",
              "      <td>2016-2017</td>\n",
              "      <td>DE</td>\n",
              "      <td>19958</td>\n",
              "      <td>Regular School</td>\n",
              "      <td>High</td>\n",
              "    </tr>\n",
              "    <tr>\n",
              "      <th>4</th>\n",
              "      <td>100018000040</td>\n",
              "      <td>0.077014</td>\n",
              "      <td>0.640060</td>\n",
              "      <td>0.834402</td>\n",
              "      <td>54015.0</td>\n",
              "      <td>18.245421</td>\n",
              "      <td>0.262641</td>\n",
              "      <td>2016-2017</td>\n",
              "      <td>DE</td>\n",
              "      <td>19934</td>\n",
              "      <td>Regular School</td>\n",
              "      <td>High</td>\n",
              "    </tr>\n",
              "  </tbody>\n",
              "</table>\n",
              "</div>\n",
              "      <button class=\"colab-df-convert\" onclick=\"convertToInteractive('df-5ad1fb24-cecc-4bf7-abff-d0e6dc5c04c6')\"\n",
              "              title=\"Convert this dataframe to an interactive table.\"\n",
              "              style=\"display:none;\">\n",
              "        \n",
              "  <svg xmlns=\"http://www.w3.org/2000/svg\" height=\"24px\"viewBox=\"0 0 24 24\"\n",
              "       width=\"24px\">\n",
              "    <path d=\"M0 0h24v24H0V0z\" fill=\"none\"/>\n",
              "    <path d=\"M18.56 5.44l.94 2.06.94-2.06 2.06-.94-2.06-.94-.94-2.06-.94 2.06-2.06.94zm-11 1L8.5 8.5l.94-2.06 2.06-.94-2.06-.94L8.5 2.5l-.94 2.06-2.06.94zm10 10l.94 2.06.94-2.06 2.06-.94-2.06-.94-.94-2.06-.94 2.06-2.06.94z\"/><path d=\"M17.41 7.96l-1.37-1.37c-.4-.4-.92-.59-1.43-.59-.52 0-1.04.2-1.43.59L10.3 9.45l-7.72 7.72c-.78.78-.78 2.05 0 2.83L4 21.41c.39.39.9.59 1.41.59.51 0 1.02-.2 1.41-.59l7.78-7.78 2.81-2.81c.8-.78.8-2.07 0-2.86zM5.41 20L4 18.59l7.72-7.72 1.47 1.35L5.41 20z\"/>\n",
              "  </svg>\n",
              "      </button>\n",
              "      \n",
              "  <style>\n",
              "    .colab-df-container {\n",
              "      display:flex;\n",
              "      flex-wrap:wrap;\n",
              "      gap: 12px;\n",
              "    }\n",
              "\n",
              "    .colab-df-convert {\n",
              "      background-color: #E8F0FE;\n",
              "      border: none;\n",
              "      border-radius: 50%;\n",
              "      cursor: pointer;\n",
              "      display: none;\n",
              "      fill: #1967D2;\n",
              "      height: 32px;\n",
              "      padding: 0 0 0 0;\n",
              "      width: 32px;\n",
              "    }\n",
              "\n",
              "    .colab-df-convert:hover {\n",
              "      background-color: #E2EBFA;\n",
              "      box-shadow: 0px 1px 2px rgba(60, 64, 67, 0.3), 0px 1px 3px 1px rgba(60, 64, 67, 0.15);\n",
              "      fill: #174EA6;\n",
              "    }\n",
              "\n",
              "    [theme=dark] .colab-df-convert {\n",
              "      background-color: #3B4455;\n",
              "      fill: #D2E3FC;\n",
              "    }\n",
              "\n",
              "    [theme=dark] .colab-df-convert:hover {\n",
              "      background-color: #434B5C;\n",
              "      box-shadow: 0px 1px 3px 1px rgba(0, 0, 0, 0.15);\n",
              "      filter: drop-shadow(0px 1px 2px rgba(0, 0, 0, 0.3));\n",
              "      fill: #FFFFFF;\n",
              "    }\n",
              "  </style>\n",
              "\n",
              "      <script>\n",
              "        const buttonEl =\n",
              "          document.querySelector('#df-5ad1fb24-cecc-4bf7-abff-d0e6dc5c04c6 button.colab-df-convert');\n",
              "        buttonEl.style.display =\n",
              "          google.colab.kernel.accessAllowed ? 'block' : 'none';\n",
              "\n",
              "        async function convertToInteractive(key) {\n",
              "          const element = document.querySelector('#df-5ad1fb24-cecc-4bf7-abff-d0e6dc5c04c6');\n",
              "          const dataTable =\n",
              "            await google.colab.kernel.invokeFunction('convertToInteractive',\n",
              "                                                     [key], {});\n",
              "          if (!dataTable) return;\n",
              "\n",
              "          const docLinkHtml = 'Like what you see? Visit the ' +\n",
              "            '<a target=\"_blank\" href=https://colab.research.google.com/notebooks/data_table.ipynb>data table notebook</a>'\n",
              "            + ' to learn more about interactive tables.';\n",
              "          element.innerHTML = '';\n",
              "          dataTable['output_type'] = 'display_data';\n",
              "          await google.colab.output.renderOutput(dataTable, element);\n",
              "          const docLink = document.createElement('div');\n",
              "          docLink.innerHTML = docLinkHtml;\n",
              "          element.appendChild(docLink);\n",
              "        }\n",
              "      </script>\n",
              "    </div>\n",
              "  </div>\n",
              "  "
            ]
          },
          "metadata": {},
          "execution_count": 115
        }
      ]
    },
    {
      "cell_type": "code",
      "source": [
        "df.info()"
      ],
      "metadata": {
        "colab": {
          "base_uri": "https://localhost:8080/"
        },
        "id": "ZYtGMp6AL20E",
        "outputId": "0dc7cb06-95af-481a-8d85-bf1379260323"
      },
      "execution_count": 116,
      "outputs": [
        {
          "output_type": "stream",
          "name": "stdout",
          "text": [
            "<class 'pandas.core.frame.DataFrame'>\n",
            "Int64Index: 7986 entries, 0 to 7985\n",
            "Data columns (total 12 columns):\n",
            " #   Column             Non-Null Count  Dtype  \n",
            "---  ------             --------------  -----  \n",
            " 0   id                 7986 non-null   int64  \n",
            " 1   rate_unemployment  7972 non-null   float64\n",
            " 2   percent_college    7973 non-null   float64\n",
            " 3   percent_married    7961 non-null   float64\n",
            " 4   median_income      7966 non-null   float64\n",
            " 5   average_act        7986 non-null   float64\n",
            " 6   percent_lunch      7986 non-null   float64\n",
            " 7   year               7898 non-null   object \n",
            " 8   state              7898 non-null   object \n",
            " 9   zip_code           7898 non-null   object \n",
            " 10  school_type        7898 non-null   object \n",
            " 11  school_level       7898 non-null   object \n",
            "dtypes: float64(6), int64(1), object(5)\n",
            "memory usage: 811.1+ KB\n"
          ]
        }
      ]
    },
    {
      "cell_type": "markdown",
      "source": [
        "##Identifying and Eliminating NaN/Out of bounds Values"
      ],
      "metadata": {
        "id": "I8MvX1Dgexzk"
      }
    },
    {
      "cell_type": "markdown",
      "source": [
        "Here we are filtering, removing and eliminating specifc values."
      ],
      "metadata": {
        "id": "H2T6oxY4rVP_"
      }
    },
    {
      "cell_type": "markdown",
      "source": [
        "Filtering to only have \"school_level == High\""
      ],
      "metadata": {
        "id": "oLx7_F_5rvcQ"
      }
    },
    {
      "cell_type": "code",
      "source": [
        "df = df.loc[df['school_level'] == 'High']"
      ],
      "metadata": {
        "id": "fDuKQS7zPim9"
      },
      "execution_count": 117,
      "outputs": []
    },
    {
      "cell_type": "markdown",
      "source": [
        "Filtering the average act to be greater than or equal to 1 since anything less is not needed. "
      ],
      "metadata": {
        "id": "Gl9bElJVruS9"
      }
    },
    {
      "cell_type": "code",
      "source": [
        "df = df.loc[df['average_act' ] >= 1]"
      ],
      "metadata": {
        "id": "7FJ3_xFpPmDJ"
      },
      "execution_count": 118,
      "outputs": []
    },
    {
      "cell_type": "markdown",
      "source": [
        "Similarly we are filtering percent lunch to only include values greater than zero "
      ],
      "metadata": {
        "id": "e0dnhEoisLIg"
      }
    },
    {
      "cell_type": "code",
      "source": [
        "df.loc[df['percent_lunch'] < 0, 'percent_lunch'] = np.nan "
      ],
      "metadata": {
        "id": "i8Wg51t2PoeL"
      },
      "execution_count": 119,
      "outputs": []
    },
    {
      "cell_type": "code",
      "source": [
        "df.isna().sum()"
      ],
      "metadata": {
        "id": "GOwRp_zMPrXE",
        "outputId": "1d1fe3d1-89b1-4a12-b969-3db50278f125",
        "colab": {
          "base_uri": "https://localhost:8080/"
        }
      },
      "execution_count": 120,
      "outputs": [
        {
          "output_type": "execute_result",
          "data": {
            "text/plain": [
              "id                    0\n",
              "rate_unemployment    12\n",
              "percent_college      11\n",
              "percent_married      20\n",
              "median_income        16\n",
              "average_act           0\n",
              "percent_lunch        20\n",
              "year                  0\n",
              "state                 0\n",
              "zip_code              0\n",
              "school_type           0\n",
              "school_level          0\n",
              "dtype: int64"
            ]
          },
          "metadata": {},
          "execution_count": 120
        }
      ]
    },
    {
      "cell_type": "code",
      "source": [
        "df.isna().mean().round(4)*100"
      ],
      "metadata": {
        "id": "RiBGNz0AQs80",
        "outputId": "f4e230f9-facd-47ad-c3eb-aa6239c0b53e",
        "colab": {
          "base_uri": "https://localhost:8080/"
        }
      },
      "execution_count": 121,
      "outputs": [
        {
          "output_type": "execute_result",
          "data": {
            "text/plain": [
              "id                   0.00\n",
              "rate_unemployment    0.17\n",
              "percent_college      0.15\n",
              "percent_married      0.28\n",
              "median_income        0.22\n",
              "average_act          0.00\n",
              "percent_lunch        0.28\n",
              "year                 0.00\n",
              "state                0.00\n",
              "zip_code             0.00\n",
              "school_type          0.00\n",
              "school_level         0.00\n",
              "dtype: float64"
            ]
          },
          "metadata": {},
          "execution_count": 121
        }
      ]
    },
    {
      "cell_type": "code",
      "source": [],
      "metadata": {
        "id": "SXrNxviXjdaq"
      },
      "execution_count": 121,
      "outputs": []
    },
    {
      "cell_type": "markdown",
      "source": [
        "##Train Test split"
      ],
      "metadata": {
        "id": "HkLe6S5NjfJ2"
      }
    },
    {
      "cell_type": "markdown",
      "source": [
        "##### $\\rightarrow$ In the matrix predictor variable `x` is all columns except `id` and `average_act` "
      ],
      "metadata": {
        "id": "a86uQQx7gcAg"
      }
    },
    {
      "cell_type": "markdown",
      "source": [
        "#### Get input and output variables."
      ],
      "metadata": {
        "id": "DNPFKJVSinze"
      }
    },
    {
      "cell_type": "code",
      "source": [
        "x = df[df.columns.difference(['id','average_act'])]"
      ],
      "metadata": {
        "id": "-jCLmEuijuJI"
      },
      "execution_count": 122,
      "outputs": []
    },
    {
      "cell_type": "code",
      "source": [
        "x.head()"
      ],
      "metadata": {
        "colab": {
          "base_uri": "https://localhost:8080/",
          "height": 206
        },
        "id": "lZt_CjmN3G3h",
        "outputId": "71cc1c72-8f61-4037-f4be-4f78809095e3"
      },
      "execution_count": 123,
      "outputs": [
        {
          "output_type": "execute_result",
          "data": {
            "text/plain": [
              "   median_income  percent_college  percent_lunch  percent_married  \\\n",
              "0        42820.0         0.445283       0.066901         0.346495   \n",
              "1        89320.0         0.662765       0.112412         0.767619   \n",
              "2        84140.0         0.701864       0.096816         0.713090   \n",
              "3        56500.0         0.692062       0.296960         0.641283   \n",
              "4        54015.0         0.640060       0.262641         0.834402   \n",
              "\n",
              "   rate_unemployment school_level     school_type state       year zip_code  \n",
              "0           0.117962         High  Regular School    DE  2016-2017    19804  \n",
              "1           0.063984         High  Regular School    DE  2016-2017    19709  \n",
              "2           0.056460         High  Regular School    DE  2016-2017    19709  \n",
              "3           0.044739         High  Regular School    DE  2016-2017    19958  \n",
              "4           0.077014         High  Regular School    DE  2016-2017    19934  "
            ],
            "text/html": [
              "\n",
              "  <div id=\"df-9fbc1376-be38-4e5d-bc63-ef02646537b4\">\n",
              "    <div class=\"colab-df-container\">\n",
              "      <div>\n",
              "<style scoped>\n",
              "    .dataframe tbody tr th:only-of-type {\n",
              "        vertical-align: middle;\n",
              "    }\n",
              "\n",
              "    .dataframe tbody tr th {\n",
              "        vertical-align: top;\n",
              "    }\n",
              "\n",
              "    .dataframe thead th {\n",
              "        text-align: right;\n",
              "    }\n",
              "</style>\n",
              "<table border=\"1\" class=\"dataframe\">\n",
              "  <thead>\n",
              "    <tr style=\"text-align: right;\">\n",
              "      <th></th>\n",
              "      <th>median_income</th>\n",
              "      <th>percent_college</th>\n",
              "      <th>percent_lunch</th>\n",
              "      <th>percent_married</th>\n",
              "      <th>rate_unemployment</th>\n",
              "      <th>school_level</th>\n",
              "      <th>school_type</th>\n",
              "      <th>state</th>\n",
              "      <th>year</th>\n",
              "      <th>zip_code</th>\n",
              "    </tr>\n",
              "  </thead>\n",
              "  <tbody>\n",
              "    <tr>\n",
              "      <th>0</th>\n",
              "      <td>42820.0</td>\n",
              "      <td>0.445283</td>\n",
              "      <td>0.066901</td>\n",
              "      <td>0.346495</td>\n",
              "      <td>0.117962</td>\n",
              "      <td>High</td>\n",
              "      <td>Regular School</td>\n",
              "      <td>DE</td>\n",
              "      <td>2016-2017</td>\n",
              "      <td>19804</td>\n",
              "    </tr>\n",
              "    <tr>\n",
              "      <th>1</th>\n",
              "      <td>89320.0</td>\n",
              "      <td>0.662765</td>\n",
              "      <td>0.112412</td>\n",
              "      <td>0.767619</td>\n",
              "      <td>0.063984</td>\n",
              "      <td>High</td>\n",
              "      <td>Regular School</td>\n",
              "      <td>DE</td>\n",
              "      <td>2016-2017</td>\n",
              "      <td>19709</td>\n",
              "    </tr>\n",
              "    <tr>\n",
              "      <th>2</th>\n",
              "      <td>84140.0</td>\n",
              "      <td>0.701864</td>\n",
              "      <td>0.096816</td>\n",
              "      <td>0.713090</td>\n",
              "      <td>0.056460</td>\n",
              "      <td>High</td>\n",
              "      <td>Regular School</td>\n",
              "      <td>DE</td>\n",
              "      <td>2016-2017</td>\n",
              "      <td>19709</td>\n",
              "    </tr>\n",
              "    <tr>\n",
              "      <th>3</th>\n",
              "      <td>56500.0</td>\n",
              "      <td>0.692062</td>\n",
              "      <td>0.296960</td>\n",
              "      <td>0.641283</td>\n",
              "      <td>0.044739</td>\n",
              "      <td>High</td>\n",
              "      <td>Regular School</td>\n",
              "      <td>DE</td>\n",
              "      <td>2016-2017</td>\n",
              "      <td>19958</td>\n",
              "    </tr>\n",
              "    <tr>\n",
              "      <th>4</th>\n",
              "      <td>54015.0</td>\n",
              "      <td>0.640060</td>\n",
              "      <td>0.262641</td>\n",
              "      <td>0.834402</td>\n",
              "      <td>0.077014</td>\n",
              "      <td>High</td>\n",
              "      <td>Regular School</td>\n",
              "      <td>DE</td>\n",
              "      <td>2016-2017</td>\n",
              "      <td>19934</td>\n",
              "    </tr>\n",
              "  </tbody>\n",
              "</table>\n",
              "</div>\n",
              "      <button class=\"colab-df-convert\" onclick=\"convertToInteractive('df-9fbc1376-be38-4e5d-bc63-ef02646537b4')\"\n",
              "              title=\"Convert this dataframe to an interactive table.\"\n",
              "              style=\"display:none;\">\n",
              "        \n",
              "  <svg xmlns=\"http://www.w3.org/2000/svg\" height=\"24px\"viewBox=\"0 0 24 24\"\n",
              "       width=\"24px\">\n",
              "    <path d=\"M0 0h24v24H0V0z\" fill=\"none\"/>\n",
              "    <path d=\"M18.56 5.44l.94 2.06.94-2.06 2.06-.94-2.06-.94-.94-2.06-.94 2.06-2.06.94zm-11 1L8.5 8.5l.94-2.06 2.06-.94-2.06-.94L8.5 2.5l-.94 2.06-2.06.94zm10 10l.94 2.06.94-2.06 2.06-.94-2.06-.94-.94-2.06-.94 2.06-2.06.94z\"/><path d=\"M17.41 7.96l-1.37-1.37c-.4-.4-.92-.59-1.43-.59-.52 0-1.04.2-1.43.59L10.3 9.45l-7.72 7.72c-.78.78-.78 2.05 0 2.83L4 21.41c.39.39.9.59 1.41.59.51 0 1.02-.2 1.41-.59l7.78-7.78 2.81-2.81c.8-.78.8-2.07 0-2.86zM5.41 20L4 18.59l7.72-7.72 1.47 1.35L5.41 20z\"/>\n",
              "  </svg>\n",
              "      </button>\n",
              "      \n",
              "  <style>\n",
              "    .colab-df-container {\n",
              "      display:flex;\n",
              "      flex-wrap:wrap;\n",
              "      gap: 12px;\n",
              "    }\n",
              "\n",
              "    .colab-df-convert {\n",
              "      background-color: #E8F0FE;\n",
              "      border: none;\n",
              "      border-radius: 50%;\n",
              "      cursor: pointer;\n",
              "      display: none;\n",
              "      fill: #1967D2;\n",
              "      height: 32px;\n",
              "      padding: 0 0 0 0;\n",
              "      width: 32px;\n",
              "    }\n",
              "\n",
              "    .colab-df-convert:hover {\n",
              "      background-color: #E2EBFA;\n",
              "      box-shadow: 0px 1px 2px rgba(60, 64, 67, 0.3), 0px 1px 3px 1px rgba(60, 64, 67, 0.15);\n",
              "      fill: #174EA6;\n",
              "    }\n",
              "\n",
              "    [theme=dark] .colab-df-convert {\n",
              "      background-color: #3B4455;\n",
              "      fill: #D2E3FC;\n",
              "    }\n",
              "\n",
              "    [theme=dark] .colab-df-convert:hover {\n",
              "      background-color: #434B5C;\n",
              "      box-shadow: 0px 1px 3px 1px rgba(0, 0, 0, 0.15);\n",
              "      filter: drop-shadow(0px 1px 2px rgba(0, 0, 0, 0.3));\n",
              "      fill: #FFFFFF;\n",
              "    }\n",
              "  </style>\n",
              "\n",
              "      <script>\n",
              "        const buttonEl =\n",
              "          document.querySelector('#df-9fbc1376-be38-4e5d-bc63-ef02646537b4 button.colab-df-convert');\n",
              "        buttonEl.style.display =\n",
              "          google.colab.kernel.accessAllowed ? 'block' : 'none';\n",
              "\n",
              "        async function convertToInteractive(key) {\n",
              "          const element = document.querySelector('#df-9fbc1376-be38-4e5d-bc63-ef02646537b4');\n",
              "          const dataTable =\n",
              "            await google.colab.kernel.invokeFunction('convertToInteractive',\n",
              "                                                     [key], {});\n",
              "          if (!dataTable) return;\n",
              "\n",
              "          const docLinkHtml = 'Like what you see? Visit the ' +\n",
              "            '<a target=\"_blank\" href=https://colab.research.google.com/notebooks/data_table.ipynb>data table notebook</a>'\n",
              "            + ' to learn more about interactive tables.';\n",
              "          element.innerHTML = '';\n",
              "          dataTable['output_type'] = 'display_data';\n",
              "          await google.colab.output.renderOutput(dataTable, element);\n",
              "          const docLink = document.createElement('div');\n",
              "          docLink.innerHTML = docLinkHtml;\n",
              "          element.appendChild(docLink);\n",
              "        }\n",
              "      </script>\n",
              "    </div>\n",
              "  </div>\n",
              "  "
            ]
          },
          "metadata": {},
          "execution_count": 123
        }
      ]
    },
    {
      "cell_type": "markdown",
      "source": [
        "##### $\\rightarrow$ Defining the output variable `y` to be `average_act`."
      ],
      "metadata": {
        "id": "K13Riufxh79v"
      }
    },
    {
      "cell_type": "code",
      "source": [
        "y = df[['average_act']]"
      ],
      "metadata": {
        "id": "3it7xWU5j3N7"
      },
      "execution_count": 124,
      "outputs": []
    },
    {
      "cell_type": "code",
      "source": [
        "y.head()"
      ],
      "metadata": {
        "colab": {
          "base_uri": "https://localhost:8080/",
          "height": 206
        },
        "id": "XZ3_h76e354v",
        "outputId": "e6f4cd55-61c9-459d-c339-f3b3c9eb93c5"
      },
      "execution_count": 125,
      "outputs": [
        {
          "output_type": "execute_result",
          "data": {
            "text/plain": [
              "   average_act\n",
              "0    20.433455\n",
              "1    19.498168\n",
              "2    19.554335\n",
              "3    17.737485\n",
              "4    18.245421"
            ],
            "text/html": [
              "\n",
              "  <div id=\"df-e5993ff8-7905-477f-94aa-394eaa2e3d29\">\n",
              "    <div class=\"colab-df-container\">\n",
              "      <div>\n",
              "<style scoped>\n",
              "    .dataframe tbody tr th:only-of-type {\n",
              "        vertical-align: middle;\n",
              "    }\n",
              "\n",
              "    .dataframe tbody tr th {\n",
              "        vertical-align: top;\n",
              "    }\n",
              "\n",
              "    .dataframe thead th {\n",
              "        text-align: right;\n",
              "    }\n",
              "</style>\n",
              "<table border=\"1\" class=\"dataframe\">\n",
              "  <thead>\n",
              "    <tr style=\"text-align: right;\">\n",
              "      <th></th>\n",
              "      <th>average_act</th>\n",
              "    </tr>\n",
              "  </thead>\n",
              "  <tbody>\n",
              "    <tr>\n",
              "      <th>0</th>\n",
              "      <td>20.433455</td>\n",
              "    </tr>\n",
              "    <tr>\n",
              "      <th>1</th>\n",
              "      <td>19.498168</td>\n",
              "    </tr>\n",
              "    <tr>\n",
              "      <th>2</th>\n",
              "      <td>19.554335</td>\n",
              "    </tr>\n",
              "    <tr>\n",
              "      <th>3</th>\n",
              "      <td>17.737485</td>\n",
              "    </tr>\n",
              "    <tr>\n",
              "      <th>4</th>\n",
              "      <td>18.245421</td>\n",
              "    </tr>\n",
              "  </tbody>\n",
              "</table>\n",
              "</div>\n",
              "      <button class=\"colab-df-convert\" onclick=\"convertToInteractive('df-e5993ff8-7905-477f-94aa-394eaa2e3d29')\"\n",
              "              title=\"Convert this dataframe to an interactive table.\"\n",
              "              style=\"display:none;\">\n",
              "        \n",
              "  <svg xmlns=\"http://www.w3.org/2000/svg\" height=\"24px\"viewBox=\"0 0 24 24\"\n",
              "       width=\"24px\">\n",
              "    <path d=\"M0 0h24v24H0V0z\" fill=\"none\"/>\n",
              "    <path d=\"M18.56 5.44l.94 2.06.94-2.06 2.06-.94-2.06-.94-.94-2.06-.94 2.06-2.06.94zm-11 1L8.5 8.5l.94-2.06 2.06-.94-2.06-.94L8.5 2.5l-.94 2.06-2.06.94zm10 10l.94 2.06.94-2.06 2.06-.94-2.06-.94-.94-2.06-.94 2.06-2.06.94z\"/><path d=\"M17.41 7.96l-1.37-1.37c-.4-.4-.92-.59-1.43-.59-.52 0-1.04.2-1.43.59L10.3 9.45l-7.72 7.72c-.78.78-.78 2.05 0 2.83L4 21.41c.39.39.9.59 1.41.59.51 0 1.02-.2 1.41-.59l7.78-7.78 2.81-2.81c.8-.78.8-2.07 0-2.86zM5.41 20L4 18.59l7.72-7.72 1.47 1.35L5.41 20z\"/>\n",
              "  </svg>\n",
              "      </button>\n",
              "      \n",
              "  <style>\n",
              "    .colab-df-container {\n",
              "      display:flex;\n",
              "      flex-wrap:wrap;\n",
              "      gap: 12px;\n",
              "    }\n",
              "\n",
              "    .colab-df-convert {\n",
              "      background-color: #E8F0FE;\n",
              "      border: none;\n",
              "      border-radius: 50%;\n",
              "      cursor: pointer;\n",
              "      display: none;\n",
              "      fill: #1967D2;\n",
              "      height: 32px;\n",
              "      padding: 0 0 0 0;\n",
              "      width: 32px;\n",
              "    }\n",
              "\n",
              "    .colab-df-convert:hover {\n",
              "      background-color: #E2EBFA;\n",
              "      box-shadow: 0px 1px 2px rgba(60, 64, 67, 0.3), 0px 1px 3px 1px rgba(60, 64, 67, 0.15);\n",
              "      fill: #174EA6;\n",
              "    }\n",
              "\n",
              "    [theme=dark] .colab-df-convert {\n",
              "      background-color: #3B4455;\n",
              "      fill: #D2E3FC;\n",
              "    }\n",
              "\n",
              "    [theme=dark] .colab-df-convert:hover {\n",
              "      background-color: #434B5C;\n",
              "      box-shadow: 0px 1px 3px 1px rgba(0, 0, 0, 0.15);\n",
              "      filter: drop-shadow(0px 1px 2px rgba(0, 0, 0, 0.3));\n",
              "      fill: #FFFFFF;\n",
              "    }\n",
              "  </style>\n",
              "\n",
              "      <script>\n",
              "        const buttonEl =\n",
              "          document.querySelector('#df-e5993ff8-7905-477f-94aa-394eaa2e3d29 button.colab-df-convert');\n",
              "        buttonEl.style.display =\n",
              "          google.colab.kernel.accessAllowed ? 'block' : 'none';\n",
              "\n",
              "        async function convertToInteractive(key) {\n",
              "          const element = document.querySelector('#df-e5993ff8-7905-477f-94aa-394eaa2e3d29');\n",
              "          const dataTable =\n",
              "            await google.colab.kernel.invokeFunction('convertToInteractive',\n",
              "                                                     [key], {});\n",
              "          if (!dataTable) return;\n",
              "\n",
              "          const docLinkHtml = 'Like what you see? Visit the ' +\n",
              "            '<a target=\"_blank\" href=https://colab.research.google.com/notebooks/data_table.ipynb>data table notebook</a>'\n",
              "            + ' to learn more about interactive tables.';\n",
              "          element.innerHTML = '';\n",
              "          dataTable['output_type'] = 'display_data';\n",
              "          await google.colab.output.renderOutput(dataTable, element);\n",
              "          const docLink = document.createElement('div');\n",
              "          docLink.innerHTML = docLinkHtml;\n",
              "          element.appendChild(docLink);\n",
              "        }\n",
              "      </script>\n",
              "    </div>\n",
              "  </div>\n",
              "  "
            ]
          },
          "metadata": {},
          "execution_count": 125
        }
      ]
    },
    {
      "cell_type": "markdown",
      "source": [
        "#### Train and test splits"
      ],
      "metadata": {
        "id": "Fx3QJFDLiaRa"
      }
    },
    {
      "cell_type": "markdown",
      "source": [
        "##### $\\rightarrow$ Here we are splitting the data into training and testing sets. Keeping 20% of the data for the test set & rest for the train"
      ],
      "metadata": {
        "id": "UDGSq615jAGW"
      }
    },
    {
      "cell_type": "code",
      "source": [
        "x_train, x_test, y_train, y_test = train_test_split(x, y,  test_size=.2, random_state = 1)"
      ],
      "metadata": {
        "id": "xd_SAATfk57m"
      },
      "execution_count": 126,
      "outputs": []
    },
    {
      "cell_type": "code",
      "source": [
        "print(x_train.shape, x_test.shape)"
      ],
      "metadata": {
        "colab": {
          "base_uri": "https://localhost:8080/"
        },
        "id": "M49rb8cGlerl",
        "outputId": "f8265659-6dd0-4ac2-8ffb-4f8c7bd3cfcd"
      },
      "execution_count": 127,
      "outputs": [
        {
          "output_type": "stream",
          "name": "stdout",
          "text": [
            "(5781, 10) (1446, 10)\n"
          ]
        }
      ]
    },
    {
      "cell_type": "markdown",
      "source": [
        "#### Imputation"
      ],
      "metadata": {
        "id": "3aHwnGK4jT7D"
      }
    },
    {
      "cell_type": "markdown",
      "source": [
        "Defining an imputer to use later on called \"imputer\""
      ],
      "metadata": {
        "id": "PWiu4vOtjhwr"
      }
    },
    {
      "cell_type": "code",
      "source": [
        "imputer = IterativeImputer()"
      ],
      "metadata": {
        "id": "uVQv28qXnq4X"
      },
      "execution_count": 128,
      "outputs": []
    },
    {
      "cell_type": "code",
      "source": [
        "imputer.fit(x_train.loc[:,'median_income':'rate_unemployment'])"
      ],
      "metadata": {
        "colab": {
          "base_uri": "https://localhost:8080/",
          "height": 74
        },
        "id": "NtYNJJyLnso6",
        "outputId": "67903285-4831-4799-8987-7719f170ac53"
      },
      "execution_count": 129,
      "outputs": [
        {
          "output_type": "execute_result",
          "data": {
            "text/plain": [
              "IterativeImputer()"
            ],
            "text/html": [
              "<style>#sk-container-id-2 {color: black;background-color: white;}#sk-container-id-2 pre{padding: 0;}#sk-container-id-2 div.sk-toggleable {background-color: white;}#sk-container-id-2 label.sk-toggleable__label {cursor: pointer;display: block;width: 100%;margin-bottom: 0;padding: 0.3em;box-sizing: border-box;text-align: center;}#sk-container-id-2 label.sk-toggleable__label-arrow:before {content: \"▸\";float: left;margin-right: 0.25em;color: #696969;}#sk-container-id-2 label.sk-toggleable__label-arrow:hover:before {color: black;}#sk-container-id-2 div.sk-estimator:hover label.sk-toggleable__label-arrow:before {color: black;}#sk-container-id-2 div.sk-toggleable__content {max-height: 0;max-width: 0;overflow: hidden;text-align: left;background-color: #f0f8ff;}#sk-container-id-2 div.sk-toggleable__content pre {margin: 0.2em;color: black;border-radius: 0.25em;background-color: #f0f8ff;}#sk-container-id-2 input.sk-toggleable__control:checked~div.sk-toggleable__content {max-height: 200px;max-width: 100%;overflow: auto;}#sk-container-id-2 input.sk-toggleable__control:checked~label.sk-toggleable__label-arrow:before {content: \"▾\";}#sk-container-id-2 div.sk-estimator input.sk-toggleable__control:checked~label.sk-toggleable__label {background-color: #d4ebff;}#sk-container-id-2 div.sk-label input.sk-toggleable__control:checked~label.sk-toggleable__label {background-color: #d4ebff;}#sk-container-id-2 input.sk-hidden--visually {border: 0;clip: rect(1px 1px 1px 1px);clip: rect(1px, 1px, 1px, 1px);height: 1px;margin: -1px;overflow: hidden;padding: 0;position: absolute;width: 1px;}#sk-container-id-2 div.sk-estimator {font-family: monospace;background-color: #f0f8ff;border: 1px dotted black;border-radius: 0.25em;box-sizing: border-box;margin-bottom: 0.5em;}#sk-container-id-2 div.sk-estimator:hover {background-color: #d4ebff;}#sk-container-id-2 div.sk-parallel-item::after {content: \"\";width: 100%;border-bottom: 1px solid gray;flex-grow: 1;}#sk-container-id-2 div.sk-label:hover label.sk-toggleable__label {background-color: #d4ebff;}#sk-container-id-2 div.sk-serial::before {content: \"\";position: absolute;border-left: 1px solid gray;box-sizing: border-box;top: 0;bottom: 0;left: 50%;z-index: 0;}#sk-container-id-2 div.sk-serial {display: flex;flex-direction: column;align-items: center;background-color: white;padding-right: 0.2em;padding-left: 0.2em;position: relative;}#sk-container-id-2 div.sk-item {position: relative;z-index: 1;}#sk-container-id-2 div.sk-parallel {display: flex;align-items: stretch;justify-content: center;background-color: white;position: relative;}#sk-container-id-2 div.sk-item::before, #sk-container-id-2 div.sk-parallel-item::before {content: \"\";position: absolute;border-left: 1px solid gray;box-sizing: border-box;top: 0;bottom: 0;left: 50%;z-index: -1;}#sk-container-id-2 div.sk-parallel-item {display: flex;flex-direction: column;z-index: 1;position: relative;background-color: white;}#sk-container-id-2 div.sk-parallel-item:first-child::after {align-self: flex-end;width: 50%;}#sk-container-id-2 div.sk-parallel-item:last-child::after {align-self: flex-start;width: 50%;}#sk-container-id-2 div.sk-parallel-item:only-child::after {width: 0;}#sk-container-id-2 div.sk-dashed-wrapped {border: 1px dashed gray;margin: 0 0.4em 0.5em 0.4em;box-sizing: border-box;padding-bottom: 0.4em;background-color: white;}#sk-container-id-2 div.sk-label label {font-family: monospace;font-weight: bold;display: inline-block;line-height: 1.2em;}#sk-container-id-2 div.sk-label-container {text-align: center;}#sk-container-id-2 div.sk-container {/* jupyter's `normalize.less` sets `[hidden] { display: none; }` but bootstrap.min.css set `[hidden] { display: none !important; }` so we also need the `!important` here to be able to override the default hidden behavior on the sphinx rendered scikit-learn.org. See: https://github.com/scikit-learn/scikit-learn/issues/21755 */display: inline-block !important;position: relative;}#sk-container-id-2 div.sk-text-repr-fallback {display: none;}</style><div id=\"sk-container-id-2\" class=\"sk-top-container\"><div class=\"sk-text-repr-fallback\"><pre>IterativeImputer()</pre><b>In a Jupyter environment, please rerun this cell to show the HTML representation or trust the notebook. <br />On GitHub, the HTML representation is unable to render, please try loading this page with nbviewer.org.</b></div><div class=\"sk-container\" hidden><div class=\"sk-item\"><div class=\"sk-estimator sk-toggleable\"><input class=\"sk-toggleable__control sk-hidden--visually\" id=\"sk-estimator-id-2\" type=\"checkbox\" checked><label for=\"sk-estimator-id-2\" class=\"sk-toggleable__label sk-toggleable__label-arrow\">IterativeImputer</label><div class=\"sk-toggleable__content\"><pre>IterativeImputer()</pre></div></div></div></div></div>"
            ]
          },
          "metadata": {},
          "execution_count": 129
        }
      ]
    },
    {
      "cell_type": "markdown",
      "source": [
        "Imputing the missing values in the training data."
      ],
      "metadata": {
        "id": "DKPm5G7lojJ6"
      }
    },
    {
      "cell_type": "code",
      "source": [
        "x_train.info()"
      ],
      "metadata": {
        "colab": {
          "base_uri": "https://localhost:8080/"
        },
        "id": "WDcYfVs-pkIG",
        "outputId": "4ce44e15-2ea5-47ee-ba2c-3cb1b5e9da81"
      },
      "execution_count": 130,
      "outputs": [
        {
          "output_type": "stream",
          "name": "stdout",
          "text": [
            "<class 'pandas.core.frame.DataFrame'>\n",
            "Int64Index: 5781 entries, 3663 to 5736\n",
            "Data columns (total 10 columns):\n",
            " #   Column             Non-Null Count  Dtype  \n",
            "---  ------             --------------  -----  \n",
            " 0   median_income      5766 non-null   float64\n",
            " 1   percent_college    5770 non-null   float64\n",
            " 2   percent_lunch      5764 non-null   float64\n",
            " 3   percent_married    5763 non-null   float64\n",
            " 4   rate_unemployment  5769 non-null   float64\n",
            " 5   school_level       5781 non-null   object \n",
            " 6   school_type        5781 non-null   object \n",
            " 7   state              5781 non-null   object \n",
            " 8   year               5781 non-null   object \n",
            " 9   zip_code           5781 non-null   object \n",
            "dtypes: float64(5), object(5)\n",
            "memory usage: 496.8+ KB\n"
          ]
        }
      ]
    },
    {
      "cell_type": "markdown",
      "source": [
        "The line of code below is filling missing values in the 'median_income' to 'rate_unemployment' columns of the pandas dataframe x_train using an imputer object. "
      ],
      "metadata": {
        "id": "JoSspkd6poLt"
      }
    },
    {
      "cell_type": "code",
      "source": [
        "x_train.loc[:, 'median_income':'rate_unemployment'] = imputer.transform(x_train.loc[:,'median_income':'rate_unemployment'])"
      ],
      "metadata": {
        "id": "mRoFDmtAoO0d"
      },
      "execution_count": 131,
      "outputs": []
    },
    {
      "cell_type": "markdown",
      "source": [
        "Now missing values in train should be zero"
      ],
      "metadata": {
        "id": "X0uT-c38F5wC"
      }
    },
    {
      "cell_type": "code",
      "source": [
        "x_train.isna().sum()"
      ],
      "metadata": {
        "colab": {
          "base_uri": "https://localhost:8080/"
        },
        "id": "jJTHnZfCqcvB",
        "outputId": "28b00bd8-4409-452d-c7f8-433ffaf43924"
      },
      "execution_count": 132,
      "outputs": [
        {
          "output_type": "execute_result",
          "data": {
            "text/plain": [
              "median_income        0\n",
              "percent_college      0\n",
              "percent_lunch        0\n",
              "percent_married      0\n",
              "rate_unemployment    0\n",
              "school_level         0\n",
              "school_type          0\n",
              "state                0\n",
              "year                 0\n",
              "zip_code             0\n",
              "dtype: int64"
            ]
          },
          "metadata": {},
          "execution_count": 132
        }
      ]
    },
    {
      "cell_type": "markdown",
      "source": [
        "Now doing something similar for the Test data set. First checking missing values, filling and rechecking"
      ],
      "metadata": {
        "id": "gdxCN9bcqgtJ"
      }
    },
    {
      "cell_type": "code",
      "source": [
        "x_test.isna().sum()"
      ],
      "metadata": {
        "colab": {
          "base_uri": "https://localhost:8080/"
        },
        "id": "RrVHDto4F-IN",
        "outputId": "2747bbf0-3fe2-4084-9717-2efa1e648b45"
      },
      "execution_count": 133,
      "outputs": [
        {
          "output_type": "execute_result",
          "data": {
            "text/plain": [
              "median_income        1\n",
              "percent_college      0\n",
              "percent_lunch        3\n",
              "percent_married      2\n",
              "rate_unemployment    0\n",
              "school_level         0\n",
              "school_type          0\n",
              "state                0\n",
              "year                 0\n",
              "zip_code             0\n",
              "dtype: int64"
            ]
          },
          "metadata": {},
          "execution_count": 133
        }
      ]
    },
    {
      "cell_type": "code",
      "source": [
        "x_test.loc[:,'median_income':'rate_unemployment'] = imputer.transform(x_test.loc[:,'median_income':'rate_unemployment'])"
      ],
      "metadata": {
        "id": "4JAJXQdFGGeP"
      },
      "execution_count": 134,
      "outputs": []
    },
    {
      "cell_type": "code",
      "source": [
        "x_test.isna().sum()"
      ],
      "metadata": {
        "colab": {
          "base_uri": "https://localhost:8080/"
        },
        "id": "HsJGUYirG69a",
        "outputId": "94f9eaf4-a403-48e2-b77e-e82aa9b70c2c"
      },
      "execution_count": 135,
      "outputs": [
        {
          "output_type": "execute_result",
          "data": {
            "text/plain": [
              "median_income        0\n",
              "percent_college      0\n",
              "percent_lunch        0\n",
              "percent_married      0\n",
              "rate_unemployment    0\n",
              "school_level         0\n",
              "school_type          0\n",
              "state                0\n",
              "year                 0\n",
              "zip_code             0\n",
              "dtype: int64"
            ]
          },
          "metadata": {},
          "execution_count": 135
        }
      ]
    },
    {
      "cell_type": "markdown",
      "source": [
        "##Joining (X & Y) Train & Test"
      ],
      "metadata": {
        "id": "Qxmbco9Fs3XG"
      }
    },
    {
      "cell_type": "markdown",
      "source": [
        "This line of code is joining two pandas dataframes x_train and y_train horizontally based on their index and creating a new dataframe df_train."
      ],
      "metadata": {
        "id": "zYX_h2NvtK2m"
      }
    },
    {
      "cell_type": "code",
      "source": [
        "df_train = x_train.join(y_train)"
      ],
      "metadata": {
        "id": "YbWIk0QrHAc_"
      },
      "execution_count": 136,
      "outputs": []
    },
    {
      "cell_type": "code",
      "source": [
        "df_train.head()"
      ],
      "metadata": {
        "colab": {
          "base_uri": "https://localhost:8080/",
          "height": 357
        },
        "id": "lOJ4dUNiHEd3",
        "outputId": "7fa60786-fc88-478a-8b1e-411742317373"
      },
      "execution_count": 137,
      "outputs": [
        {
          "output_type": "execute_result",
          "data": {
            "text/plain": [
              "      median_income  percent_college  percent_lunch  percent_married  \\\n",
              "3663        41793.0         0.602419       0.542056         0.574034   \n",
              "1689        38173.0         0.469225       0.339655         0.711429   \n",
              "5852        39635.0         0.567361       0.270175         0.694514   \n",
              "3288        40978.0         0.467614       0.315556         0.766901   \n",
              "378         36875.0         0.604470       0.548410         0.803435   \n",
              "\n",
              "      rate_unemployment school_level     school_type state       year  \\\n",
              "3663           0.111111         High  Regular School    NJ  2016-2017   \n",
              "1689           0.135246         High  Regular School    IN  2016-2017   \n",
              "5852           0.083419         High  Regular School    PA  2016-2017   \n",
              "3288           0.062531         High  Regular School    MO  2016-2017   \n",
              "378            0.071429         High  Regular School    FL  2016-2017   \n",
              "\n",
              "     zip_code  average_act  \n",
              "3663     7306    16.538462  \n",
              "1689    47567    20.367521  \n",
              "5852    15853    20.347985  \n",
              "3288    64644    21.600000  \n",
              "378     34669    21.056166  "
            ],
            "text/html": [
              "\n",
              "  <div id=\"df-4127ac94-70db-4de6-a58e-5a515138649a\">\n",
              "    <div class=\"colab-df-container\">\n",
              "      <div>\n",
              "<style scoped>\n",
              "    .dataframe tbody tr th:only-of-type {\n",
              "        vertical-align: middle;\n",
              "    }\n",
              "\n",
              "    .dataframe tbody tr th {\n",
              "        vertical-align: top;\n",
              "    }\n",
              "\n",
              "    .dataframe thead th {\n",
              "        text-align: right;\n",
              "    }\n",
              "</style>\n",
              "<table border=\"1\" class=\"dataframe\">\n",
              "  <thead>\n",
              "    <tr style=\"text-align: right;\">\n",
              "      <th></th>\n",
              "      <th>median_income</th>\n",
              "      <th>percent_college</th>\n",
              "      <th>percent_lunch</th>\n",
              "      <th>percent_married</th>\n",
              "      <th>rate_unemployment</th>\n",
              "      <th>school_level</th>\n",
              "      <th>school_type</th>\n",
              "      <th>state</th>\n",
              "      <th>year</th>\n",
              "      <th>zip_code</th>\n",
              "      <th>average_act</th>\n",
              "    </tr>\n",
              "  </thead>\n",
              "  <tbody>\n",
              "    <tr>\n",
              "      <th>3663</th>\n",
              "      <td>41793.0</td>\n",
              "      <td>0.602419</td>\n",
              "      <td>0.542056</td>\n",
              "      <td>0.574034</td>\n",
              "      <td>0.111111</td>\n",
              "      <td>High</td>\n",
              "      <td>Regular School</td>\n",
              "      <td>NJ</td>\n",
              "      <td>2016-2017</td>\n",
              "      <td>7306</td>\n",
              "      <td>16.538462</td>\n",
              "    </tr>\n",
              "    <tr>\n",
              "      <th>1689</th>\n",
              "      <td>38173.0</td>\n",
              "      <td>0.469225</td>\n",
              "      <td>0.339655</td>\n",
              "      <td>0.711429</td>\n",
              "      <td>0.135246</td>\n",
              "      <td>High</td>\n",
              "      <td>Regular School</td>\n",
              "      <td>IN</td>\n",
              "      <td>2016-2017</td>\n",
              "      <td>47567</td>\n",
              "      <td>20.367521</td>\n",
              "    </tr>\n",
              "    <tr>\n",
              "      <th>5852</th>\n",
              "      <td>39635.0</td>\n",
              "      <td>0.567361</td>\n",
              "      <td>0.270175</td>\n",
              "      <td>0.694514</td>\n",
              "      <td>0.083419</td>\n",
              "      <td>High</td>\n",
              "      <td>Regular School</td>\n",
              "      <td>PA</td>\n",
              "      <td>2016-2017</td>\n",
              "      <td>15853</td>\n",
              "      <td>20.347985</td>\n",
              "    </tr>\n",
              "    <tr>\n",
              "      <th>3288</th>\n",
              "      <td>40978.0</td>\n",
              "      <td>0.467614</td>\n",
              "      <td>0.315556</td>\n",
              "      <td>0.766901</td>\n",
              "      <td>0.062531</td>\n",
              "      <td>High</td>\n",
              "      <td>Regular School</td>\n",
              "      <td>MO</td>\n",
              "      <td>2016-2017</td>\n",
              "      <td>64644</td>\n",
              "      <td>21.600000</td>\n",
              "    </tr>\n",
              "    <tr>\n",
              "      <th>378</th>\n",
              "      <td>36875.0</td>\n",
              "      <td>0.604470</td>\n",
              "      <td>0.548410</td>\n",
              "      <td>0.803435</td>\n",
              "      <td>0.071429</td>\n",
              "      <td>High</td>\n",
              "      <td>Regular School</td>\n",
              "      <td>FL</td>\n",
              "      <td>2016-2017</td>\n",
              "      <td>34669</td>\n",
              "      <td>21.056166</td>\n",
              "    </tr>\n",
              "  </tbody>\n",
              "</table>\n",
              "</div>\n",
              "      <button class=\"colab-df-convert\" onclick=\"convertToInteractive('df-4127ac94-70db-4de6-a58e-5a515138649a')\"\n",
              "              title=\"Convert this dataframe to an interactive table.\"\n",
              "              style=\"display:none;\">\n",
              "        \n",
              "  <svg xmlns=\"http://www.w3.org/2000/svg\" height=\"24px\"viewBox=\"0 0 24 24\"\n",
              "       width=\"24px\">\n",
              "    <path d=\"M0 0h24v24H0V0z\" fill=\"none\"/>\n",
              "    <path d=\"M18.56 5.44l.94 2.06.94-2.06 2.06-.94-2.06-.94-.94-2.06-.94 2.06-2.06.94zm-11 1L8.5 8.5l.94-2.06 2.06-.94-2.06-.94L8.5 2.5l-.94 2.06-2.06.94zm10 10l.94 2.06.94-2.06 2.06-.94-2.06-.94-.94-2.06-.94 2.06-2.06.94z\"/><path d=\"M17.41 7.96l-1.37-1.37c-.4-.4-.92-.59-1.43-.59-.52 0-1.04.2-1.43.59L10.3 9.45l-7.72 7.72c-.78.78-.78 2.05 0 2.83L4 21.41c.39.39.9.59 1.41.59.51 0 1.02-.2 1.41-.59l7.78-7.78 2.81-2.81c.8-.78.8-2.07 0-2.86zM5.41 20L4 18.59l7.72-7.72 1.47 1.35L5.41 20z\"/>\n",
              "  </svg>\n",
              "      </button>\n",
              "      \n",
              "  <style>\n",
              "    .colab-df-container {\n",
              "      display:flex;\n",
              "      flex-wrap:wrap;\n",
              "      gap: 12px;\n",
              "    }\n",
              "\n",
              "    .colab-df-convert {\n",
              "      background-color: #E8F0FE;\n",
              "      border: none;\n",
              "      border-radius: 50%;\n",
              "      cursor: pointer;\n",
              "      display: none;\n",
              "      fill: #1967D2;\n",
              "      height: 32px;\n",
              "      padding: 0 0 0 0;\n",
              "      width: 32px;\n",
              "    }\n",
              "\n",
              "    .colab-df-convert:hover {\n",
              "      background-color: #E2EBFA;\n",
              "      box-shadow: 0px 1px 2px rgba(60, 64, 67, 0.3), 0px 1px 3px 1px rgba(60, 64, 67, 0.15);\n",
              "      fill: #174EA6;\n",
              "    }\n",
              "\n",
              "    [theme=dark] .colab-df-convert {\n",
              "      background-color: #3B4455;\n",
              "      fill: #D2E3FC;\n",
              "    }\n",
              "\n",
              "    [theme=dark] .colab-df-convert:hover {\n",
              "      background-color: #434B5C;\n",
              "      box-shadow: 0px 1px 3px 1px rgba(0, 0, 0, 0.15);\n",
              "      filter: drop-shadow(0px 1px 2px rgba(0, 0, 0, 0.3));\n",
              "      fill: #FFFFFF;\n",
              "    }\n",
              "  </style>\n",
              "\n",
              "      <script>\n",
              "        const buttonEl =\n",
              "          document.querySelector('#df-4127ac94-70db-4de6-a58e-5a515138649a button.colab-df-convert');\n",
              "        buttonEl.style.display =\n",
              "          google.colab.kernel.accessAllowed ? 'block' : 'none';\n",
              "\n",
              "        async function convertToInteractive(key) {\n",
              "          const element = document.querySelector('#df-4127ac94-70db-4de6-a58e-5a515138649a');\n",
              "          const dataTable =\n",
              "            await google.colab.kernel.invokeFunction('convertToInteractive',\n",
              "                                                     [key], {});\n",
              "          if (!dataTable) return;\n",
              "\n",
              "          const docLinkHtml = 'Like what you see? Visit the ' +\n",
              "            '<a target=\"_blank\" href=https://colab.research.google.com/notebooks/data_table.ipynb>data table notebook</a>'\n",
              "            + ' to learn more about interactive tables.';\n",
              "          element.innerHTML = '';\n",
              "          dataTable['output_type'] = 'display_data';\n",
              "          await google.colab.output.renderOutput(dataTable, element);\n",
              "          const docLink = document.createElement('div');\n",
              "          docLink.innerHTML = docLinkHtml;\n",
              "          element.appendChild(docLink);\n",
              "        }\n",
              "      </script>\n",
              "    </div>\n",
              "  </div>\n",
              "  "
            ]
          },
          "metadata": {},
          "execution_count": 137
        }
      ]
    },
    {
      "cell_type": "markdown",
      "source": [
        "Similar to what we did for df_train we are doing it to df_test"
      ],
      "metadata": {
        "id": "XIhGJl59uoO0"
      }
    },
    {
      "cell_type": "code",
      "source": [
        "df_test = x_test.join(y_test)"
      ],
      "metadata": {
        "id": "tLQUKK4-HK72"
      },
      "execution_count": 138,
      "outputs": []
    },
    {
      "cell_type": "code",
      "source": [
        "df_test.head()"
      ],
      "metadata": {
        "colab": {
          "base_uri": "https://localhost:8080/",
          "height": 357
        },
        "id": "QYMQ5MQoHOEu",
        "outputId": "56c05be9-9dde-417e-f983-8c154ce928db"
      },
      "execution_count": 139,
      "outputs": [
        {
          "output_type": "execute_result",
          "data": {
            "text/plain": [
              "      median_income  percent_college  percent_lunch  percent_married  \\\n",
              "2804        52833.0         0.564717       0.226481         0.823245   \n",
              "4162        62411.0         0.537197       0.677895         0.313253   \n",
              "5411        63938.0         0.781818       0.561431         0.523810   \n",
              "4171        25625.0         0.361014       0.625239         0.317358   \n",
              "1950        46350.0         0.602669       0.358377         0.641444   \n",
              "\n",
              "      rate_unemployment school_level     school_type state       year  \\\n",
              "2804           0.100518         High  Regular School    MI  2016-2017   \n",
              "4162           0.095582         High  Regular School    NY  2016-2017   \n",
              "5411           0.096433         High  Regular School    PA  2016-2017   \n",
              "4171           0.168471         High  Regular School    NY  2016-2017   \n",
              "1950           0.089737         High  Regular School    KY  2016-2017   \n",
              "\n",
              "     zip_code  average_act  \n",
              "2804    49112    21.000000  \n",
              "4162    11413    16.245421  \n",
              "5411    15222    18.345543  \n",
              "4171    11103    18.663004  \n",
              "1950    42025    20.000000  "
            ],
            "text/html": [
              "\n",
              "  <div id=\"df-5cd1db70-a212-4d2e-9f99-39ef8066cb2a\">\n",
              "    <div class=\"colab-df-container\">\n",
              "      <div>\n",
              "<style scoped>\n",
              "    .dataframe tbody tr th:only-of-type {\n",
              "        vertical-align: middle;\n",
              "    }\n",
              "\n",
              "    .dataframe tbody tr th {\n",
              "        vertical-align: top;\n",
              "    }\n",
              "\n",
              "    .dataframe thead th {\n",
              "        text-align: right;\n",
              "    }\n",
              "</style>\n",
              "<table border=\"1\" class=\"dataframe\">\n",
              "  <thead>\n",
              "    <tr style=\"text-align: right;\">\n",
              "      <th></th>\n",
              "      <th>median_income</th>\n",
              "      <th>percent_college</th>\n",
              "      <th>percent_lunch</th>\n",
              "      <th>percent_married</th>\n",
              "      <th>rate_unemployment</th>\n",
              "      <th>school_level</th>\n",
              "      <th>school_type</th>\n",
              "      <th>state</th>\n",
              "      <th>year</th>\n",
              "      <th>zip_code</th>\n",
              "      <th>average_act</th>\n",
              "    </tr>\n",
              "  </thead>\n",
              "  <tbody>\n",
              "    <tr>\n",
              "      <th>2804</th>\n",
              "      <td>52833.0</td>\n",
              "      <td>0.564717</td>\n",
              "      <td>0.226481</td>\n",
              "      <td>0.823245</td>\n",
              "      <td>0.100518</td>\n",
              "      <td>High</td>\n",
              "      <td>Regular School</td>\n",
              "      <td>MI</td>\n",
              "      <td>2016-2017</td>\n",
              "      <td>49112</td>\n",
              "      <td>21.000000</td>\n",
              "    </tr>\n",
              "    <tr>\n",
              "      <th>4162</th>\n",
              "      <td>62411.0</td>\n",
              "      <td>0.537197</td>\n",
              "      <td>0.677895</td>\n",
              "      <td>0.313253</td>\n",
              "      <td>0.095582</td>\n",
              "      <td>High</td>\n",
              "      <td>Regular School</td>\n",
              "      <td>NY</td>\n",
              "      <td>2016-2017</td>\n",
              "      <td>11413</td>\n",
              "      <td>16.245421</td>\n",
              "    </tr>\n",
              "    <tr>\n",
              "      <th>5411</th>\n",
              "      <td>63938.0</td>\n",
              "      <td>0.781818</td>\n",
              "      <td>0.561431</td>\n",
              "      <td>0.523810</td>\n",
              "      <td>0.096433</td>\n",
              "      <td>High</td>\n",
              "      <td>Regular School</td>\n",
              "      <td>PA</td>\n",
              "      <td>2016-2017</td>\n",
              "      <td>15222</td>\n",
              "      <td>18.345543</td>\n",
              "    </tr>\n",
              "    <tr>\n",
              "      <th>4171</th>\n",
              "      <td>25625.0</td>\n",
              "      <td>0.361014</td>\n",
              "      <td>0.625239</td>\n",
              "      <td>0.317358</td>\n",
              "      <td>0.168471</td>\n",
              "      <td>High</td>\n",
              "      <td>Regular School</td>\n",
              "      <td>NY</td>\n",
              "      <td>2016-2017</td>\n",
              "      <td>11103</td>\n",
              "      <td>18.663004</td>\n",
              "    </tr>\n",
              "    <tr>\n",
              "      <th>1950</th>\n",
              "      <td>46350.0</td>\n",
              "      <td>0.602669</td>\n",
              "      <td>0.358377</td>\n",
              "      <td>0.641444</td>\n",
              "      <td>0.089737</td>\n",
              "      <td>High</td>\n",
              "      <td>Regular School</td>\n",
              "      <td>KY</td>\n",
              "      <td>2016-2017</td>\n",
              "      <td>42025</td>\n",
              "      <td>20.000000</td>\n",
              "    </tr>\n",
              "  </tbody>\n",
              "</table>\n",
              "</div>\n",
              "      <button class=\"colab-df-convert\" onclick=\"convertToInteractive('df-5cd1db70-a212-4d2e-9f99-39ef8066cb2a')\"\n",
              "              title=\"Convert this dataframe to an interactive table.\"\n",
              "              style=\"display:none;\">\n",
              "        \n",
              "  <svg xmlns=\"http://www.w3.org/2000/svg\" height=\"24px\"viewBox=\"0 0 24 24\"\n",
              "       width=\"24px\">\n",
              "    <path d=\"M0 0h24v24H0V0z\" fill=\"none\"/>\n",
              "    <path d=\"M18.56 5.44l.94 2.06.94-2.06 2.06-.94-2.06-.94-.94-2.06-.94 2.06-2.06.94zm-11 1L8.5 8.5l.94-2.06 2.06-.94-2.06-.94L8.5 2.5l-.94 2.06-2.06.94zm10 10l.94 2.06.94-2.06 2.06-.94-2.06-.94-.94-2.06-.94 2.06-2.06.94z\"/><path d=\"M17.41 7.96l-1.37-1.37c-.4-.4-.92-.59-1.43-.59-.52 0-1.04.2-1.43.59L10.3 9.45l-7.72 7.72c-.78.78-.78 2.05 0 2.83L4 21.41c.39.39.9.59 1.41.59.51 0 1.02-.2 1.41-.59l7.78-7.78 2.81-2.81c.8-.78.8-2.07 0-2.86zM5.41 20L4 18.59l7.72-7.72 1.47 1.35L5.41 20z\"/>\n",
              "  </svg>\n",
              "      </button>\n",
              "      \n",
              "  <style>\n",
              "    .colab-df-container {\n",
              "      display:flex;\n",
              "      flex-wrap:wrap;\n",
              "      gap: 12px;\n",
              "    }\n",
              "\n",
              "    .colab-df-convert {\n",
              "      background-color: #E8F0FE;\n",
              "      border: none;\n",
              "      border-radius: 50%;\n",
              "      cursor: pointer;\n",
              "      display: none;\n",
              "      fill: #1967D2;\n",
              "      height: 32px;\n",
              "      padding: 0 0 0 0;\n",
              "      width: 32px;\n",
              "    }\n",
              "\n",
              "    .colab-df-convert:hover {\n",
              "      background-color: #E2EBFA;\n",
              "      box-shadow: 0px 1px 2px rgba(60, 64, 67, 0.3), 0px 1px 3px 1px rgba(60, 64, 67, 0.15);\n",
              "      fill: #174EA6;\n",
              "    }\n",
              "\n",
              "    [theme=dark] .colab-df-convert {\n",
              "      background-color: #3B4455;\n",
              "      fill: #D2E3FC;\n",
              "    }\n",
              "\n",
              "    [theme=dark] .colab-df-convert:hover {\n",
              "      background-color: #434B5C;\n",
              "      box-shadow: 0px 1px 3px 1px rgba(0, 0, 0, 0.15);\n",
              "      filter: drop-shadow(0px 1px 2px rgba(0, 0, 0, 0.3));\n",
              "      fill: #FFFFFF;\n",
              "    }\n",
              "  </style>\n",
              "\n",
              "      <script>\n",
              "        const buttonEl =\n",
              "          document.querySelector('#df-5cd1db70-a212-4d2e-9f99-39ef8066cb2a button.colab-df-convert');\n",
              "        buttonEl.style.display =\n",
              "          google.colab.kernel.accessAllowed ? 'block' : 'none';\n",
              "\n",
              "        async function convertToInteractive(key) {\n",
              "          const element = document.querySelector('#df-5cd1db70-a212-4d2e-9f99-39ef8066cb2a');\n",
              "          const dataTable =\n",
              "            await google.colab.kernel.invokeFunction('convertToInteractive',\n",
              "                                                     [key], {});\n",
              "          if (!dataTable) return;\n",
              "\n",
              "          const docLinkHtml = 'Like what you see? Visit the ' +\n",
              "            '<a target=\"_blank\" href=https://colab.research.google.com/notebooks/data_table.ipynb>data table notebook</a>'\n",
              "            + ' to learn more about interactive tables.';\n",
              "          element.innerHTML = '';\n",
              "          dataTable['output_type'] = 'display_data';\n",
              "          await google.colab.output.renderOutput(dataTable, element);\n",
              "          const docLink = document.createElement('div');\n",
              "          docLink.innerHTML = docLinkHtml;\n",
              "          element.appendChild(docLink);\n",
              "        }\n",
              "      </script>\n",
              "    </div>\n",
              "  </div>\n",
              "  "
            ]
          },
          "metadata": {},
          "execution_count": 139
        }
      ]
    },
    {
      "cell_type": "code",
      "source": [],
      "metadata": {
        "id": "9725KZOIOIFl"
      },
      "execution_count": 139,
      "outputs": []
    }
  ]
}